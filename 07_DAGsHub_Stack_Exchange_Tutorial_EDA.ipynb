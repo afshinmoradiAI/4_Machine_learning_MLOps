{
 "cells": [
  {
   "cell_type": "markdown",
   "metadata": {
    "id": "iR2ALb0TB9vf"
   },
   "source": [
    "<center> <img alt=\"DAGsHub\" width=500px src=https://raw.githubusercontent.com/DAGsHub/client/master/dagshub_github.png> </center>\n",
    "\n",
    "# Stack Exchange Tutorial - Exploratory Data Analysis (EDA)\n",
    "This notebook is the analysis of the data used in [DAGsHub's tutorial](https://dagshub.com/docs/experiment-tutorial/overview/).\n",
    "\n",
    "It's here mostly to give more in-depth explanations and code for those who are interested, and allows you to easily modify the code and try different things.\n",
    "\n",
    "If you just want to learn how to use DAGsHub, we suggest you just read through the [tutorial](https://dagshub.com/docs/experiment-tutorial/overview/), where we [explain the important parts of the results of this EDA](https://dagshub.com/docs/tutorial/0-data), as well as:\n",
    "\n",
    "* [How to experiment with different models, data preprocessing and feature engineering](https://dagshub.com/docs/experiment-tutorial/2-experiments/)\n",
    "* How to keep versions of your data and models, so that all of your experiments are automatically reproducible - TBD – for now go to our [Data Versioning Tutorial to learn this](https://dagshub.com/docs/tutorial/overview/)"
   ]
  },
  {
   "cell_type": "code",
   "execution_count": 1,
   "metadata": {
    "colab": {
     "base_uri": "https://localhost:8080/"
    },
    "id": "8KxJNKB4NQG8",
    "outputId": "8b3632cc-ae11-461c-f8d3-aaa956ca503e"
   },
   "outputs": [],
   "source": [
    "# IMPORTANT! Restart the runtine after running this cell once\n",
    "#!pip install ydata-profiling"
   ]
  },
  {
   "cell_type": "markdown",
   "metadata": {
    "id": "m90fXP_pLPEP"
   },
   "source": [
    "## Downloading the Raw Data\n",
    "\n",
    "### Go to Windows Powershell and run the following command as shown below. It will output the file in your local directory\n",
    "\n",
    "Invoke-WebRequest -Uri https://dagshub-public.s3.us-east-2.amazonaws.com/tutorials/stackexchange/CrossValidated-Questions-Nov-2020.csv -OutFile \"CrossValidated-Questions.csv\"\n"
   ]
  },
  {
   "cell_type": "markdown",
   "metadata": {
    "id": "Ob549P_pLVm0"
   },
   "source": [
    "## Load data for processing\n",
    "Since this is a CSV file, we can load it using [Pandas](https://pandas.pydata.org/) for processing."
   ]
  },
  {
   "cell_type": "code",
   "execution_count": null,
   "metadata": {
    "colab": {
     "base_uri": "https://localhost:8080/",
     "height": 641
    },
    "id": "UXOfr3tmR233",
    "outputId": "7beb89e0-3828-426a-957e-63bedcc29767"
   },
   "outputs": [],
   "source": [
    "import pandas as pd\n",
    "df = pd.read_csv('5_Code repository with DagsHub, DVC, Git and MLFlow/data/CrossValidated-Questions.csv')\n",
    "df"
   ]
  },
  {
   "cell_type": "markdown",
   "metadata": {
    "id": "H2UO0PbHLan4"
   },
   "source": [
    "The columns are pretty self explanatory - we have:\n",
    "\n",
    "* Two textual features (`Title` & `Body`). \n",
    "\n",
    "  We can already tell that this text is actually full of HTML tags, which we will probably need to clean to get good results.\n",
    "  \n",
    "* One string column that is actually the list of `Tags` for this question. This contains the target `machine-learning` tag we want to predict.\n",
    "* Some numeric features: `Score, ViewCount, AnswerCount, CommentCount, FavoriteCount`\n",
    "* One `CreationDate` feature that needs to be processed correctly:"
   ]
  },
  {
   "cell_type": "markdown",
   "metadata": {},
   "source": [
    "# Checking Data Types"
   ]
  },
  {
   "cell_type": "code",
   "execution_count": null,
   "metadata": {},
   "outputs": [],
   "source": [
    "df.dtypes"
   ]
  },
  {
   "cell_type": "code",
   "execution_count": null,
   "metadata": {
    "colab": {
     "base_uri": "https://localhost:8080/"
    },
    "id": "MaOJ8KhEtJ1A",
    "outputId": "5806f00b-6a8e-4375-98d9-0c074e95b50a"
   },
   "outputs": [],
   "source": [
    "#Since CreationDate is an object, changing it to date time and then numbers\n",
    "\n",
    "df['CreationDate'] = pd.to_datetime(df['CreationDate'])\n",
    "\n",
    "# Also include the numeric representation of the timestamp, so we can look at its distribution / correlation with other features\n",
    "df['CreationDate_Epoch'] = df['CreationDate'].astype('int64') // 10 ** 9"
   ]
  },
  {
   "cell_type": "markdown",
   "metadata": {
    "id": "SSpU1eWsLoG_"
   },
   "source": [
    "Also, remember that our end goal here is to **classify questions about Machine Learning**.\n",
    "This information is stored in the `Tags` column:"
   ]
  },
  {
   "cell_type": "code",
   "execution_count": null,
   "metadata": {
    "id": "wi12xtuVJKL3"
   },
   "outputs": [],
   "source": [
    "df['MachineLearning'] = df['Tags'].str.contains('machine-learning').fillna(False)\n",
    "df"
   ]
  },
  {
   "cell_type": "code",
   "execution_count": null,
   "metadata": {},
   "outputs": [],
   "source": [
    "df['MachineLearning']"
   ]
  },
  {
   "cell_type": "markdown",
   "metadata": {
    "id": "4FtIdfm_B0tv"
   },
   "source": [
    "Now we can drop the non-informative columns"
   ]
  },
  {
   "cell_type": "code",
   "execution_count": null,
   "metadata": {
    "id": "NYcwDmyt3BGR"
   },
   "outputs": [],
   "source": [
    "df = df.drop(columns=['Id','Tags'])\n",
    "df"
   ]
  },
  {
   "cell_type": "markdown",
   "metadata": {
    "id": "BgYwQgOzE6z8"
   },
   "source": [
    "Some positive and negative samples:"
   ]
  },
  {
   "cell_type": "code",
   "execution_count": null,
   "metadata": {
    "colab": {
     "base_uri": "https://localhost:8080/",
     "height": 337
    },
    "id": "UvN-NJGJE43W",
    "outputId": "6245b3be-fb89-4d49-9613-5bb8f7d7a1bf"
   },
   "outputs": [],
   "source": [
    "df[df['MachineLearning']].sample(5)"
   ]
  },
  {
   "cell_type": "code",
   "execution_count": null,
   "metadata": {
    "colab": {
     "base_uri": "https://localhost:8080/",
     "height": 337
    },
    "id": "lvzHQW8mEpuX",
    "outputId": "8e59a2c3-07ad-49bb-befa-b99f0869640a"
   },
   "outputs": [],
   "source": [
    "df[df['MachineLearning'] != True].sample(5)"
   ]
  },
  {
   "cell_type": "markdown",
   "metadata": {
    "id": "xZkdhow-xtHP"
   },
   "source": [
    "We can define a new `Title_Len` and `Body_Len` column to get interesting statistics on question length"
   ]
  },
  {
   "cell_type": "code",
   "execution_count": null,
   "metadata": {
    "id": "YOAX4Po4xhJY"
   },
   "outputs": [],
   "source": [
    "df['Title_Len'] = df.Title.str.len()\n",
    "df['Body_Len'] = df.Body.str.len()\n",
    "\n",
    "df"
   ]
  },
  {
   "cell_type": "markdown",
   "metadata": {
    "id": "3otwcr9BFVVb"
   },
   "source": [
    "## Data Exploration\n",
    "Now, let's try to get a sense of the data distribution. We start out with a simple pandas describe on all columns."
   ]
  },
  {
   "cell_type": "code",
   "execution_count": null,
   "metadata": {
    "colab": {
     "base_uri": "https://localhost:8080/",
     "height": 642
    },
    "id": "-Nc_f8ZaR8xM",
    "outputId": "9e592e2e-2c95-409d-b800-e3d984a16a3b",
    "scrolled": true
   },
   "outputs": [],
   "source": [
    "df.describe(include='all')"
   ]
  },
  {
   "cell_type": "markdown",
   "metadata": {
    "id": "ikfe5NWIFgRc"
   },
   "source": [
    "Also, it's good to know that we don't need to deal with null values in this dataset. It seems safe to assume that the 82% of rows with `FavoriteCount == null` can be imputed to zeroes, meaning no user marked these questions as favorite."
   ]
  },
  {
   "cell_type": "code",
   "execution_count": null,
   "metadata": {
    "colab": {
     "base_uri": "https://localhost:8080/"
    },
    "id": "rnmnXYPhSWJG",
    "outputId": "c6e46606-78b2-4984-f62c-80af5c6ca7b2"
   },
   "outputs": [],
   "source": [
    "#df.shape[0]: This gives the total number of rows in the DataFrame\n",
    "\n",
    "df.isnull().sum() * 100 / df.shape[0] \n"
   ]
  },
  {
   "cell_type": "markdown",
   "metadata": {
    "id": "0Wnqf692GKOy"
   },
   "source": [
    "We'll use [Seaborn](https://seaborn.pydata.org/) to visualize data. It should be automatically available in the Google Colab environment."
   ]
  },
  {
   "cell_type": "code",
   "execution_count": null,
   "metadata": {
    "id": "T9TG_S8AGRKS"
   },
   "outputs": [],
   "source": [
    "import seaborn as sns\n",
    "sns.set()"
   ]
  },
  {
   "cell_type": "code",
   "execution_count": null,
   "metadata": {
    "colab": {
     "base_uri": "https://localhost:8080/",
     "height": 302
    },
    "id": "WIaQodIcGgep",
    "outputId": "159fa76e-12e8-4816-baf3-3c61ccb7fe97"
   },
   "outputs": [],
   "source": [
    "sns.countplot(x='MachineLearning', data=df, )\n",
    "print(f\"{df['MachineLearning'].mean() * 100}% labeled True\")"
   ]
  },
  {
   "cell_type": "markdown",
   "metadata": {},
   "source": [
    "# Looks like about 11.1% of the data is labeled as `machine-learning`. \n",
    "# This means this will be an unbalanced classification problem, but not catastrophically unbalanced. \n",
    "# Highly umbalanced data is when one class is less then 5% of total values"
   ]
  },
  {
   "cell_type": "markdown",
   "metadata": {
    "id": "T2ex8g7lwG3C"
   },
   "source": [
    "To quickly get a feel for the distribution of data, we can use [`pandas-profiling`](https://github.com/pandas-profiling/pandas-profiling).\n",
    "\n",
    "Note that the output is long and scrollable, so be sure to scroll through.\n",
    "\n",
    "Some quick observations from this report are:\n",
    "* We should drop the `FavoriteCount` column, since it's highly correlated with `Score`\n",
    "* `Score, ViewCount, AnswerCount` are highly skewed, so we might take that into account in data preparation.\n",
    "* Our label `MachineLearning` is not too strongly related with any other single feature\n",
    "* The `CreationDate` field is negatively correlated with most numeric fields, which would make sense as newer questions haven't had as much time to gather views, upvotes and answers.\n",
    "* `Body_Len` is negatively correlated with `AnswerCount`, which also makes sense - people are probably less inclined to read through a long question before answering it\n",
    "\n",
    "There are probably many other things to learn from this report, but we'll leave it for now. [In the next part of the tutorial](https://dagshub.com/docs/tutorial/1-experiments), we'll use what we've learned about the data to process it for training models."
   ]
  },
  {
   "cell_type": "code",
   "execution_count": null,
   "metadata": {},
   "outputs": [],
   "source": [
    "pip install matplotlib"
   ]
  },
  {
   "cell_type": "code",
   "execution_count": null,
   "metadata": {
    "scrolled": false
   },
   "outputs": [],
   "source": [
    "import matplotlib\n",
    "import ydata_profiling\n",
    "from ydata_profiling import ProfileReport\n",
    "\n",
    "# Assuming 'df' is your pandas DataFrame\n",
    "profile = ProfileReport(df, title=\"Pandas Profiling Report\")\n",
    "profile.to_widgets()"
   ]
  },
  {
   "cell_type": "code",
   "execution_count": null,
   "metadata": {},
   "outputs": [],
   "source": [
    "profile.to_file(\"your_report.html\")"
   ]
  },
  {
   "cell_type": "code",
   "execution_count": null,
   "metadata": {
    "id": "K9nRritNqv1w"
   },
   "outputs": [],
   "source": [
    "# Drop the correlated features\n",
    "df = df.drop(columns=['FavoriteCount'])"
   ]
  },
  {
   "cell_type": "markdown",
   "metadata": {
    "id": "nxRKIrG-xjG5"
   },
   "source": [
    "## Processing the data\n",
    "\n",
    "First things first - we should split the data into train and test sets.\n",
    "\n",
    "Even before training the model itself, the preprocessing stages are supposed to fit only the training data, not the test data."
   ]
  },
  {
   "cell_type": "code",
   "execution_count": null,
   "metadata": {
    "id": "UY_0MoKExiJ7"
   },
   "outputs": [],
   "source": [
    "from sklearn.model_selection import train_test_split\n",
    "train_df, test_df = train_test_split(df)"
   ]
  },
  {
   "cell_type": "markdown",
   "metadata": {
    "id": "WXk_LAEk3uiy"
   },
   "source": [
    "Here, we try to scale and transform the numeric features to make them smoother, less skewed, and more appropriate for modeling.\n",
    "\n",
    "`PowerTransformer` attempts to make the data more like a normal distribution, which should soften the impact of extreme outliers and make the distributions smoother.\n",
    "\n",
    "`MinMaxScaler` is used as a first step to make sure the numbers are in a reasonable range, as `PowerTransformer` can fail on very large numbers."
   ]
  },
  {
   "cell_type": "code",
   "execution_count": null,
   "metadata": {
    "id": "BHyL1AY8rBJM"
   },
   "outputs": [],
   "source": [
    "from sklearn.preprocessing import MinMaxScaler, PowerTransformer\n",
    "from sklearn.pipeline import make_pipeline\n",
    "\n",
    "pipeline = make_pipeline(MinMaxScaler(), PowerTransformer())\n",
    "\n",
    "numeric_col_names = ['Title_Len','Body_Len','CreationDate_Epoch','AnswerCount','ViewCount','Score','CommentCount']\n",
    "\n",
    "train_df_norm = pd.DataFrame(pipeline.fit_transform(train_df[numeric_col_names]), columns=numeric_col_names)\n",
    "\n",
    "train_df_norm = train_df_norm.combine_first(train_df.reset_index()) # Add the other columns back"
   ]
  },
  {
   "cell_type": "code",
   "execution_count": null,
   "metadata": {
    "id": "NE0VKwiKZeT0"
   },
   "outputs": [],
   "source": [
    "test_df_norm = pd.DataFrame(pipeline.transform(test_df[numeric_col_names]), columns=numeric_col_names)\n",
    "test_df_norm = test_df_norm.combine_first(test_df.reset_index()) # Add the other columns back"
   ]
  },
  {
   "cell_type": "markdown",
   "metadata": {
    "id": "dNcL-3tiEQyO"
   },
   "source": [
    "Looking at the new distribution of the features, we can see they're now scaled correctly and not as skewed."
   ]
  },
  {
   "cell_type": "code",
   "execution_count": null,
   "metadata": {
    "colab": {
     "base_uri": "https://localhost:8080/",
     "height": 1000
    },
    "id": "_lckPrHMtbJL",
    "outputId": "e8aef46a-473a-4c94-ac4c-7d58ee4b0666"
   },
   "outputs": [],
   "source": [
    "import matplotlib.pyplot as plt\n",
    "import seaborn as sns\n",
    "\n",
    "# Your plotting code\n",
    "sns.pairplot(train_df_norm.drop(columns=['index','CreationDate']), hue='MachineLearning')\n",
    "plt.show()"
   ]
  },
  {
   "cell_type": "markdown",
   "metadata": {
    "id": "EfDkXnuaEuhi"
   },
   "source": [
    "## Model training\n",
    "\n",
    "Now, we'll fit a basic Logistic Regression model to our data, to see that it manages to learn anything. We're not trying to optimize it yet, just see that it successfully learns something useful, and that our preparation of the data helped.\n",
    "\n",
    "For the time being, we'll only use the *numeric* columns for this model. The textual columns require specialized preprocessing before they can be used as input to a model.\n",
    "\n",
    "We'll drop the `CreationDate` column, as its information is already stored in the scaled `CreationDate_Epoch` column.\n",
    "\n",
    "To get a good idea of how well the model learned something useful about the data, we also reserve some of the data for testing."
   ]
  },
  {
   "cell_type": "code",
   "execution_count": null,
   "metadata": {
    "colab": {
     "base_uri": "https://localhost:8080/"
    },
    "id": "zvJbYz5t5f4y",
    "outputId": "e8d29004-4f62-4a9c-84ae-c449e48f298c"
   },
   "outputs": [],
   "source": [
    "import sklearn.linear_model\n",
    "clf = sklearn.linear_model.LogisticRegression()\n",
    "train_cols = [c for c in numeric_col_names if c != 'CreationDate']\n",
    "\n",
    "X = train_df_norm[train_cols]\n",
    "y = train_df_norm['MachineLearning']\n",
    "clf.fit(X, y)"
   ]
  },
  {
   "cell_type": "markdown",
   "metadata": {
    "id": "aVVJfBqXFKe6"
   },
   "source": [
    "## Evaluation\n",
    "\n",
    "Since we know that the classes are very imbalanced (only about 8% of the questions labeled as `machine-learning`), we'll avoid using the accuracy metric as an indication. Instead, we'll take a look at the precision-recall curve and ROC, which can tell us more useful information."
   ]
  },
  {
   "cell_type": "code",
   "execution_count": null,
   "metadata": {
    "colab": {
     "base_uri": "https://localhost:8080/",
     "height": 668
    },
    "id": "STh3FN1E6CrE",
    "outputId": "6c1d94b4-f847-4ce2-8d70-c6fe13dffc7d"
   },
   "outputs": [],
   "source": [
    "import sklearn.metrics\n",
    "X_test = test_df_norm[train_cols]\n",
    "y_test = test_df_norm['MachineLearning']\n",
    "sklearn.metrics.plot_precision_recall_curve(clf, X_test, y_test)\n",
    "sklearn.metrics.plot_roc_curve(clf, X_test, y_test)"
   ]
  },
  {
   "cell_type": "markdown",
   "metadata": {
    "id": "1dhwX03ZiGO5"
   },
   "source": [
    "We can also look at the learned feature importances to understand what our model is looking for:"
   ]
  },
  {
   "cell_type": "code",
   "execution_count": null,
   "metadata": {
    "colab": {
     "base_uri": "https://localhost:8080/",
     "height": 285
    },
    "id": "XmWjblg0dvRI",
    "outputId": "a67a601b-2717-4b45-dee4-fa2531fd3b36"
   },
   "outputs": [],
   "source": [
    "sns.barplot(y=train_cols, x=clf.coef_[0])"
   ]
  },
  {
   "cell_type": "markdown",
   "metadata": {
    "id": "HkR4LYjcGCF4"
   },
   "source": [
    "Looking at the following curves, we can see that the model really did learn useful information from the data, better than random at least. \n",
    "\n",
    "Let's compare to a classifier trained on the unscaled data:"
   ]
  },
  {
   "cell_type": "code",
   "execution_count": null,
   "metadata": {
    "colab": {
     "base_uri": "https://localhost:8080/",
     "height": 668
    },
    "id": "dSWxijNpGUYH",
    "outputId": "77f9b375-4c47-457d-a4e6-97191a0ba7b6"
   },
   "outputs": [],
   "source": [
    "clf_raw = sklearn.linear_model.LogisticRegression()\n",
    "X_raw = train_df[train_cols]\n",
    "y_raw = train_df['MachineLearning']\n",
    "clf_raw.fit(X_raw, y_raw)\n",
    "\n",
    "X_test_raw = test_df[train_cols]\n",
    "y_test_raw = test_df['MachineLearning']\n",
    "sklearn.metrics.plot_precision_recall_curve(clf_raw, X_test_raw, y_test_raw)\n",
    "sklearn.metrics.plot_roc_curve(clf_raw, X_test_raw, y_test_raw)"
   ]
  },
  {
   "cell_type": "markdown",
   "metadata": {
    "id": "uzTj6tiqHBjy"
   },
   "source": [
    "Clearly our data preprocessing helped - using the raw data yielded results that are even worse than random!\n",
    "\n",
    "For sanity checking, let's compare it to a naive model, which always just guesses the common label:"
   ]
  },
  {
   "cell_type": "code",
   "execution_count": null,
   "metadata": {
    "colab": {
     "base_uri": "https://localhost:8080/",
     "height": 668
    },
    "id": "C5T6Ax31HYN9",
    "outputId": "cea953b2-517e-439a-d659-c756d6c8c7b4"
   },
   "outputs": [],
   "source": [
    "import sklearn.dummy\n",
    "clf_dummy = sklearn.dummy.DummyClassifier()\n",
    "clf_dummy.fit(X, y)\n",
    "\n",
    "sklearn.metrics.plot_precision_recall_curve(clf_dummy, X_test, y_test)\n",
    "sklearn.metrics.plot_roc_curve(clf_dummy, X_test, y_test)"
   ]
  },
  {
   "cell_type": "markdown",
   "metadata": {
    "id": "RuXszcmTIABQ"
   },
   "source": [
    "## Textual Features\n",
    "\n",
    "So, at this point we have a sense for our data, have found a good way to scale and normalze our *numeric* features, and have trained a very basic classifier on it.\n",
    "\n",
    "The next phase would be to see what happens when we take advantage of our textual features - `Title` & `Body`. We'll use *only* the textual features to simplify things and isolate the effects.\n",
    "\n",
    "To make things simple, we'll unify them into one big textual column."
   ]
  },
  {
   "cell_type": "code",
   "execution_count": null,
   "metadata": {
    "id": "IflaCzgGKEln"
   },
   "outputs": [],
   "source": [
    "train_text_col = train_df_norm['Title'].fillna('') + ' ' + train_df_norm['Body'].fillna('')\n",
    "test_text_col = test_df_norm['Title'].fillna('') + ' ' + test_df_norm['Body'].fillna('')"
   ]
  },
  {
   "cell_type": "markdown",
   "metadata": {
    "id": "OXx3Uy21qNfv"
   },
   "source": [
    "To turn this text into numerical features that can be used as input to a ML model, we'll use [`TfidfVectorizer`](https://scikit-learn.org/stable/modules/generated/sklearn.feature_extraction.text.TfidfVectorizer.html) with a sensible limit of vocabulary size (`max_features=25000`). It will split the text into tokens, and give each question in the data a numerical representation of the frequency of tokens in that question.\n",
    "\n",
    "Note that special care is needed when handling [sparse matrices in Pandas](https://pandas.pydata.org/pandas-docs/stable/user_guide/sparse.html), and the result returned from `TfidfVectorizer` is a sparse matrix. **If you ignore this special handling, expect to run into out-of-memory errors, unresponsiveness and crashes as the sparse matrix gets inflated.**"
   ]
  },
  {
   "cell_type": "code",
   "execution_count": null,
   "metadata": {
    "colab": {
     "base_uri": "https://localhost:8080/"
    },
    "id": "IxpN21hDKlCI",
    "outputId": "b109b814-e396-4bd1-c6e0-40727c9b72b7"
   },
   "outputs": [],
   "source": [
    "from sklearn.feature_extraction.text import TfidfVectorizer\n",
    "\n",
    "tfidf = TfidfVectorizer(max_features=25000)\n",
    "tfidf.fit(train_text_col)\n",
    "train_tfidf_df = pd.DataFrame.sparse.from_spmatrix(tfidf.transform(train_text_col), columns=tfidf.get_feature_names())\n",
    "test_tfidf_df = pd.DataFrame.sparse.from_spmatrix(tfidf.transform(test_text_col), columns=tfidf.get_feature_names())"
   ]
  },
  {
   "cell_type": "markdown",
   "metadata": {
    "id": "WNb_vyrIVLmD"
   },
   "source": [
    "**Interesting notes:** Looks like many of the learned terms are: \n",
    "* Various numbers, like `00`, `00000000e` etc. It could be useful to prevent this splitting of numbers into many different terms in the vocabulary, since it probably won't matter to classifying the text.\n",
    "* Multiple terms grouped together due to an underscore, like `variable_2`. This is probably an artifact of embedded Python or TeX code. It might help the model if we break these down to separate terms.\n",
    "* Remember, the questions contain embedded HTML. While we're not seeing any terms that were clearly garbage created by HTML, it's a good bet that it will be useful to clean up the HTML tags in the text."
   ]
  },
  {
   "cell_type": "code",
   "execution_count": null,
   "metadata": {
    "colab": {
     "base_uri": "https://localhost:8080/",
     "height": 423
    },
    "id": "fbFcmduSxbLF",
    "outputId": "06870812-4bab-4557-8c03-9c8954f3a174"
   },
   "outputs": [],
   "source": [
    "train_tfidf_df.sample(15, axis=1)"
   ]
  },
  {
   "cell_type": "code",
   "execution_count": null,
   "metadata": {
    "colab": {
     "base_uri": "https://localhost:8080/"
    },
    "id": "HweBFTI_ZbxM",
    "outputId": "88347cf1-3efd-4903-91e7-d4394dacbbba"
   },
   "outputs": [],
   "source": [
    "clf_tfidf = sklearn.linear_model.LogisticRegression()\n",
    "clf_tfidf.fit(train_tfidf_df.sparse.to_coo(), y)"
   ]
  },
  {
   "cell_type": "markdown",
   "metadata": {
    "id": "IM5ExRJ7r2SG"
   },
   "source": [
    "## Evaluating the textual model\n",
    "Below, we can see that the new text-based model performs stunningly well!\n",
    "\n",
    "This is not surprising, as most information will be contained in the text content of each question."
   ]
  },
  {
   "cell_type": "code",
   "execution_count": null,
   "metadata": {
    "colab": {
     "base_uri": "https://localhost:8080/",
     "height": 668
    },
    "id": "p53Tl0Wucv8L",
    "outputId": "062a2ab7-33c1-4501-a71b-04541e9a4187"
   },
   "outputs": [],
   "source": [
    "X_tfidf_test = test_tfidf_df.sparse.to_coo()\n",
    "sklearn.metrics.plot_precision_recall_curve(clf_tfidf, X_tfidf_test, y_test)\n",
    "sklearn.metrics.plot_roc_curve(clf_tfidf, X_tfidf_test, y_test)"
   ]
  },
  {
   "cell_type": "markdown",
   "metadata": {
    "id": "KUW5bEULyrmf"
   },
   "source": [
    "As a sanity check, it's a good idea to check what terms the textual model cares about when making its decision.\n",
    "\n",
    "As we see below, it looks like our model learned some very good, sensible terms, that we would have probably guessed on our own, such as `machine`, `learning`, `classifier`, etc.\n",
    "\n",
    "It's interesting to note that `analysis` is a *negative*  predictor for a question about machine learning, as opposed to a general statistical question. Just throw a neural network at it 😅"
   ]
  },
  {
   "cell_type": "code",
   "execution_count": null,
   "metadata": {
    "colab": {
     "base_uri": "https://localhost:8080/",
     "height": 357
    },
    "id": "KWQI9Re8sX7A",
    "outputId": "eaca069a-63bf-4611-815e-13a8d1d763b1"
   },
   "outputs": [],
   "source": [
    "tfidf_coef_df = pd.DataFrame({'coef':clf_tfidf.coef_[0]})\n",
    "tfidf_coef_df['term'] = tfidf.get_feature_names()\n",
    "tfidf_coef_df['coef_abs'] = tfidf_coef_df['coef'].abs()\n",
    "tfidf_coef_df = tfidf_coef_df.sort_values('coef_abs', ascending=False)\n",
    "sns.barplot(y='term', x='coef', data=tfidf_coef_df[:20])"
   ]
  },
  {
   "cell_type": "markdown",
   "metadata": {
    "id": "3lUCHoEE466v"
   },
   "source": [
    "[![Stack More Layers](https://stackmorelayers.be/bg.png)](https://stackmorelayers.be)"
   ]
  },
  {
   "cell_type": "markdown",
   "metadata": {
    "id": "l82YjkIz3PDe"
   },
   "source": [
    "# Conclusion\n",
    "\n",
    "We got a good sense of our data, the type of preprocessing required, and managed to train some decent classifiers with it.\n",
    "\n",
    "At this point in a Python data science project, it's common to take the conclusions and working code from the exploratory notebook, and turn them into normal Python modules. This enables us to more easily:\n",
    "* Create reusable components that will be useful as the project matures.\n",
    "* Use code versioning tools like Git.\n",
    "* Make the process more reproducible by defining a clear pipeline (order of operations) for the data and model training.\n",
    "* Automate running and tracking of experiments.\n",
    "* Version our different experiments and models, so that we preserve knowledge and don't risk losing work by accident.\n",
    "\n",
    "[In the next level of DAGsHub's tutorial](https://dagshub.com/docs/experiment-tutorial/1-setup/), we'll take what works from this notebook and turn it into a Python project, before [going forward with experimentation](https://dagshub.com/docs/experiment-tutorial/2-experiments/) to find the best performing model for out problem.\n",
    "\n",
    "Made with 🐶 by [DAGsHub](https://dagshub.com)."
   ]
  }
 ],
 "metadata": {
  "colab": {
   "provenance": []
  },
  "kernelspec": {
   "display_name": "Python 3 (ipykernel)",
   "language": "python",
   "name": "python3"
  },
  "language_info": {
   "codemirror_mode": {
    "name": "ipython",
    "version": 3
   },
   "file_extension": ".py",
   "mimetype": "text/x-python",
   "name": "python",
   "nbconvert_exporter": "python",
   "pygments_lexer": "ipython3",
   "version": "3.11.0"
  },
  "widgets": {
   "application/vnd.jupyter.widget-state+json": {
    "14770110935b49d9ba58f60374c061f8": {
     "model_module": "@jupyter-widgets/base",
     "model_module_version": "1.2.0",
     "model_name": "LayoutModel",
     "state": {
      "_model_module": "@jupyter-widgets/base",
      "_model_module_version": "1.2.0",
      "_model_name": "LayoutModel",
      "_view_count": null,
      "_view_module": "@jupyter-widgets/base",
      "_view_module_version": "1.2.0",
      "_view_name": "LayoutView",
      "align_content": null,
      "align_items": null,
      "align_self": null,
      "border": null,
      "bottom": null,
      "display": null,
      "flex": null,
      "flex_flow": null,
      "grid_area": null,
      "grid_auto_columns": null,
      "grid_auto_flow": null,
      "grid_auto_rows": null,
      "grid_column": null,
      "grid_gap": null,
      "grid_row": null,
      "grid_template_areas": null,
      "grid_template_columns": null,
      "grid_template_rows": null,
      "height": null,
      "justify_content": null,
      "justify_items": null,
      "left": null,
      "margin": null,
      "max_height": null,
      "max_width": null,
      "min_height": null,
      "min_width": null,
      "object_fit": null,
      "object_position": null,
      "order": null,
      "overflow": null,
      "overflow_x": null,
      "overflow_y": null,
      "padding": null,
      "right": null,
      "top": null,
      "visibility": null,
      "width": null
     }
    },
    "163cae05ff3b4263ba1e0331306dc00b": {
     "model_module": "@jupyter-widgets/controls",
     "model_module_version": "1.5.0",
     "model_name": "HTMLModel",
     "state": {
      "_dom_classes": [],
      "_model_module": "@jupyter-widgets/controls",
      "_model_module_version": "1.5.0",
      "_model_name": "HTMLModel",
      "_view_count": null,
      "_view_module": "@jupyter-widgets/controls",
      "_view_module_version": "1.5.0",
      "_view_name": "HTMLView",
      "description": "",
      "description_tooltip": null,
      "layout": "IPY_MODEL_8bc6a9dcc9d34a0db1330d0c74222d40",
      "placeholder": "​",
      "style": "IPY_MODEL_3bbc6ae11d464a5a9a95bce9486f8837",
      "value": " 1/1 [00:03&lt;00:00,  3.07s/it]"
     }
    },
    "1df3be8fa39e49f886471fc518e1ffad": {
     "model_module": "@jupyter-widgets/controls",
     "model_module_version": "1.5.0",
     "model_name": "DescriptionStyleModel",
     "state": {
      "_model_module": "@jupyter-widgets/controls",
      "_model_module_version": "1.5.0",
      "_model_name": "DescriptionStyleModel",
      "_view_count": null,
      "_view_module": "@jupyter-widgets/base",
      "_view_module_version": "1.2.0",
      "_view_name": "StyleView",
      "description_width": ""
     }
    },
    "2fce7ff54dfa4bbb841c1941f6c6ca66": {
     "model_module": "@jupyter-widgets/base",
     "model_module_version": "1.2.0",
     "model_name": "LayoutModel",
     "state": {
      "_model_module": "@jupyter-widgets/base",
      "_model_module_version": "1.2.0",
      "_model_name": "LayoutModel",
      "_view_count": null,
      "_view_module": "@jupyter-widgets/base",
      "_view_module_version": "1.2.0",
      "_view_name": "LayoutView",
      "align_content": null,
      "align_items": null,
      "align_self": null,
      "border": null,
      "bottom": null,
      "display": null,
      "flex": null,
      "flex_flow": null,
      "grid_area": null,
      "grid_auto_columns": null,
      "grid_auto_flow": null,
      "grid_auto_rows": null,
      "grid_column": null,
      "grid_gap": null,
      "grid_row": null,
      "grid_template_areas": null,
      "grid_template_columns": null,
      "grid_template_rows": null,
      "height": null,
      "justify_content": null,
      "justify_items": null,
      "left": null,
      "margin": null,
      "max_height": null,
      "max_width": null,
      "min_height": null,
      "min_width": null,
      "object_fit": null,
      "object_position": null,
      "order": null,
      "overflow": null,
      "overflow_x": null,
      "overflow_y": null,
      "padding": null,
      "right": null,
      "top": null,
      "visibility": null,
      "width": null
     }
    },
    "323feb33d42644d09b3dd323bf939557": {
     "model_module": "@jupyter-widgets/base",
     "model_module_version": "1.2.0",
     "model_name": "LayoutModel",
     "state": {
      "_model_module": "@jupyter-widgets/base",
      "_model_module_version": "1.2.0",
      "_model_name": "LayoutModel",
      "_view_count": null,
      "_view_module": "@jupyter-widgets/base",
      "_view_module_version": "1.2.0",
      "_view_name": "LayoutView",
      "align_content": null,
      "align_items": null,
      "align_self": null,
      "border": null,
      "bottom": null,
      "display": null,
      "flex": null,
      "flex_flow": null,
      "grid_area": null,
      "grid_auto_columns": null,
      "grid_auto_flow": null,
      "grid_auto_rows": null,
      "grid_column": null,
      "grid_gap": null,
      "grid_row": null,
      "grid_template_areas": null,
      "grid_template_columns": null,
      "grid_template_rows": null,
      "height": null,
      "justify_content": null,
      "justify_items": null,
      "left": null,
      "margin": null,
      "max_height": null,
      "max_width": null,
      "min_height": null,
      "min_width": null,
      "object_fit": null,
      "object_position": null,
      "order": null,
      "overflow": null,
      "overflow_x": null,
      "overflow_y": null,
      "padding": null,
      "right": null,
      "top": null,
      "visibility": null,
      "width": null
     }
    },
    "37498b71954546c28b6739fe73642f1e": {
     "model_module": "@jupyter-widgets/controls",
     "model_module_version": "1.5.0",
     "model_name": "HBoxModel",
     "state": {
      "_dom_classes": [],
      "_model_module": "@jupyter-widgets/controls",
      "_model_module_version": "1.5.0",
      "_model_name": "HBoxModel",
      "_view_count": null,
      "_view_module": "@jupyter-widgets/controls",
      "_view_module_version": "1.5.0",
      "_view_name": "HBoxView",
      "box_style": "",
      "children": [
       "IPY_MODEL_3aee60b0436b43b58d09ce3852565449",
       "IPY_MODEL_c194bd36a50d46c1b39b3043db4a1bd7",
       "IPY_MODEL_163cae05ff3b4263ba1e0331306dc00b"
      ],
      "layout": "IPY_MODEL_4773b10cad0648bebd8a300614648970"
     }
    },
    "3aee60b0436b43b58d09ce3852565449": {
     "model_module": "@jupyter-widgets/controls",
     "model_module_version": "1.5.0",
     "model_name": "HTMLModel",
     "state": {
      "_dom_classes": [],
      "_model_module": "@jupyter-widgets/controls",
      "_model_module_version": "1.5.0",
      "_model_name": "HTMLModel",
      "_view_count": null,
      "_view_module": "@jupyter-widgets/controls",
      "_view_module_version": "1.5.0",
      "_view_name": "HTMLView",
      "description": "",
      "description_tooltip": null,
      "layout": "IPY_MODEL_14770110935b49d9ba58f60374c061f8",
      "placeholder": "​",
      "style": "IPY_MODEL_e62069a056da49c7954f4532f4a68e62",
      "value": "Render HTML: 100%"
     }
    },
    "3bbc6ae11d464a5a9a95bce9486f8837": {
     "model_module": "@jupyter-widgets/controls",
     "model_module_version": "1.5.0",
     "model_name": "DescriptionStyleModel",
     "state": {
      "_model_module": "@jupyter-widgets/controls",
      "_model_module_version": "1.5.0",
      "_model_name": "DescriptionStyleModel",
      "_view_count": null,
      "_view_module": "@jupyter-widgets/base",
      "_view_module_version": "1.2.0",
      "_view_name": "StyleView",
      "description_width": ""
     }
    },
    "3bee76a89cc14e80af322fcd5ae63dcd": {
     "model_module": "@jupyter-widgets/controls",
     "model_module_version": "1.5.0",
     "model_name": "HTMLModel",
     "state": {
      "_dom_classes": [],
      "_model_module": "@jupyter-widgets/controls",
      "_model_module_version": "1.5.0",
      "_model_name": "HTMLModel",
      "_view_count": null,
      "_view_module": "@jupyter-widgets/controls",
      "_view_module_version": "1.5.0",
      "_view_name": "HTMLView",
      "description": "",
      "description_tooltip": null,
      "layout": "IPY_MODEL_51b1799904ae442db3226a07670f53c7",
      "placeholder": "​",
      "style": "IPY_MODEL_df704d09ccdd4e8c8d924a268a375dd9",
      "value": "Generate report structure: 100%"
     }
    },
    "3c2195e36cb04c67914c00d94a30d142": {
     "model_module": "@jupyter-widgets/controls",
     "model_module_version": "1.5.0",
     "model_name": "HBoxModel",
     "state": {
      "_dom_classes": [],
      "_model_module": "@jupyter-widgets/controls",
      "_model_module_version": "1.5.0",
      "_model_name": "HBoxModel",
      "_view_count": null,
      "_view_module": "@jupyter-widgets/controls",
      "_view_module_version": "1.5.0",
      "_view_name": "HBoxView",
      "box_style": "",
      "children": [
       "IPY_MODEL_4f8fb8a58b87485aa627867e6f0d9b0b",
       "IPY_MODEL_9fcb21320ad7462fbc3dcee63b9240e8",
       "IPY_MODEL_eda6a94bc5084774bf8ce9f04b67cb4a"
      ],
      "layout": "IPY_MODEL_6f127cde35b24c2aa3b5bcbaede4f7f2"
     }
    },
    "4773b10cad0648bebd8a300614648970": {
     "model_module": "@jupyter-widgets/base",
     "model_module_version": "1.2.0",
     "model_name": "LayoutModel",
     "state": {
      "_model_module": "@jupyter-widgets/base",
      "_model_module_version": "1.2.0",
      "_model_name": "LayoutModel",
      "_view_count": null,
      "_view_module": "@jupyter-widgets/base",
      "_view_module_version": "1.2.0",
      "_view_name": "LayoutView",
      "align_content": null,
      "align_items": null,
      "align_self": null,
      "border": null,
      "bottom": null,
      "display": null,
      "flex": null,
      "flex_flow": null,
      "grid_area": null,
      "grid_auto_columns": null,
      "grid_auto_flow": null,
      "grid_auto_rows": null,
      "grid_column": null,
      "grid_gap": null,
      "grid_row": null,
      "grid_template_areas": null,
      "grid_template_columns": null,
      "grid_template_rows": null,
      "height": null,
      "justify_content": null,
      "justify_items": null,
      "left": null,
      "margin": null,
      "max_height": null,
      "max_width": null,
      "min_height": null,
      "min_width": null,
      "object_fit": null,
      "object_position": null,
      "order": null,
      "overflow": null,
      "overflow_x": null,
      "overflow_y": null,
      "padding": null,
      "right": null,
      "top": null,
      "visibility": null,
      "width": null
     }
    },
    "4f8fb8a58b87485aa627867e6f0d9b0b": {
     "model_module": "@jupyter-widgets/controls",
     "model_module_version": "1.5.0",
     "model_name": "HTMLModel",
     "state": {
      "_dom_classes": [],
      "_model_module": "@jupyter-widgets/controls",
      "_model_module_version": "1.5.0",
      "_model_name": "HTMLModel",
      "_view_count": null,
      "_view_module": "@jupyter-widgets/controls",
      "_view_module_version": "1.5.0",
      "_view_name": "HTMLView",
      "description": "",
      "description_tooltip": null,
      "layout": "IPY_MODEL_6dfa5d39b1a9419da8350683c63eea3d",
      "placeholder": "​",
      "style": "IPY_MODEL_f049b04288ac43fbbf19178a3cb593e6",
      "value": "Summarize dataset: 100%"
     }
    },
    "51b1799904ae442db3226a07670f53c7": {
     "model_module": "@jupyter-widgets/base",
     "model_module_version": "1.2.0",
     "model_name": "LayoutModel",
     "state": {
      "_model_module": "@jupyter-widgets/base",
      "_model_module_version": "1.2.0",
      "_model_name": "LayoutModel",
      "_view_count": null,
      "_view_module": "@jupyter-widgets/base",
      "_view_module_version": "1.2.0",
      "_view_name": "LayoutView",
      "align_content": null,
      "align_items": null,
      "align_self": null,
      "border": null,
      "bottom": null,
      "display": null,
      "flex": null,
      "flex_flow": null,
      "grid_area": null,
      "grid_auto_columns": null,
      "grid_auto_flow": null,
      "grid_auto_rows": null,
      "grid_column": null,
      "grid_gap": null,
      "grid_row": null,
      "grid_template_areas": null,
      "grid_template_columns": null,
      "grid_template_rows": null,
      "height": null,
      "justify_content": null,
      "justify_items": null,
      "left": null,
      "margin": null,
      "max_height": null,
      "max_width": null,
      "min_height": null,
      "min_width": null,
      "object_fit": null,
      "object_position": null,
      "order": null,
      "overflow": null,
      "overflow_x": null,
      "overflow_y": null,
      "padding": null,
      "right": null,
      "top": null,
      "visibility": null,
      "width": null
     }
    },
    "6dfa5d39b1a9419da8350683c63eea3d": {
     "model_module": "@jupyter-widgets/base",
     "model_module_version": "1.2.0",
     "model_name": "LayoutModel",
     "state": {
      "_model_module": "@jupyter-widgets/base",
      "_model_module_version": "1.2.0",
      "_model_name": "LayoutModel",
      "_view_count": null,
      "_view_module": "@jupyter-widgets/base",
      "_view_module_version": "1.2.0",
      "_view_name": "LayoutView",
      "align_content": null,
      "align_items": null,
      "align_self": null,
      "border": null,
      "bottom": null,
      "display": null,
      "flex": null,
      "flex_flow": null,
      "grid_area": null,
      "grid_auto_columns": null,
      "grid_auto_flow": null,
      "grid_auto_rows": null,
      "grid_column": null,
      "grid_gap": null,
      "grid_row": null,
      "grid_template_areas": null,
      "grid_template_columns": null,
      "grid_template_rows": null,
      "height": null,
      "justify_content": null,
      "justify_items": null,
      "left": null,
      "margin": null,
      "max_height": null,
      "max_width": null,
      "min_height": null,
      "min_width": null,
      "object_fit": null,
      "object_position": null,
      "order": null,
      "overflow": null,
      "overflow_x": null,
      "overflow_y": null,
      "padding": null,
      "right": null,
      "top": null,
      "visibility": null,
      "width": null
     }
    },
    "6f127cde35b24c2aa3b5bcbaede4f7f2": {
     "model_module": "@jupyter-widgets/base",
     "model_module_version": "1.2.0",
     "model_name": "LayoutModel",
     "state": {
      "_model_module": "@jupyter-widgets/base",
      "_model_module_version": "1.2.0",
      "_model_name": "LayoutModel",
      "_view_count": null,
      "_view_module": "@jupyter-widgets/base",
      "_view_module_version": "1.2.0",
      "_view_name": "LayoutView",
      "align_content": null,
      "align_items": null,
      "align_self": null,
      "border": null,
      "bottom": null,
      "display": null,
      "flex": null,
      "flex_flow": null,
      "grid_area": null,
      "grid_auto_columns": null,
      "grid_auto_flow": null,
      "grid_auto_rows": null,
      "grid_column": null,
      "grid_gap": null,
      "grid_row": null,
      "grid_template_areas": null,
      "grid_template_columns": null,
      "grid_template_rows": null,
      "height": null,
      "justify_content": null,
      "justify_items": null,
      "left": null,
      "margin": null,
      "max_height": null,
      "max_width": null,
      "min_height": null,
      "min_width": null,
      "object_fit": null,
      "object_position": null,
      "order": null,
      "overflow": null,
      "overflow_x": null,
      "overflow_y": null,
      "padding": null,
      "right": null,
      "top": null,
      "visibility": null,
      "width": null
     }
    },
    "74176523ecd642c9915add93d7b59300": {
     "model_module": "@jupyter-widgets/controls",
     "model_module_version": "1.5.0",
     "model_name": "HTMLModel",
     "state": {
      "_dom_classes": [],
      "_model_module": "@jupyter-widgets/controls",
      "_model_module_version": "1.5.0",
      "_model_name": "HTMLModel",
      "_view_count": null,
      "_view_module": "@jupyter-widgets/controls",
      "_view_module_version": "1.5.0",
      "_view_name": "HTMLView",
      "description": "",
      "description_tooltip": null,
      "layout": "IPY_MODEL_7e63b67a58ab45b38b978c37977d3fe1",
      "placeholder": "​",
      "style": "IPY_MODEL_7cca5fbe991443e4979c74ddcbd68ee9",
      "value": " 1/1 [00:09&lt;00:00,  9.23s/it]"
     }
    },
    "7cca5fbe991443e4979c74ddcbd68ee9": {
     "model_module": "@jupyter-widgets/controls",
     "model_module_version": "1.5.0",
     "model_name": "DescriptionStyleModel",
     "state": {
      "_model_module": "@jupyter-widgets/controls",
      "_model_module_version": "1.5.0",
      "_model_name": "DescriptionStyleModel",
      "_view_count": null,
      "_view_module": "@jupyter-widgets/base",
      "_view_module_version": "1.2.0",
      "_view_name": "StyleView",
      "description_width": ""
     }
    },
    "7e63b67a58ab45b38b978c37977d3fe1": {
     "model_module": "@jupyter-widgets/base",
     "model_module_version": "1.2.0",
     "model_name": "LayoutModel",
     "state": {
      "_model_module": "@jupyter-widgets/base",
      "_model_module_version": "1.2.0",
      "_model_name": "LayoutModel",
      "_view_count": null,
      "_view_module": "@jupyter-widgets/base",
      "_view_module_version": "1.2.0",
      "_view_name": "LayoutView",
      "align_content": null,
      "align_items": null,
      "align_self": null,
      "border": null,
      "bottom": null,
      "display": null,
      "flex": null,
      "flex_flow": null,
      "grid_area": null,
      "grid_auto_columns": null,
      "grid_auto_flow": null,
      "grid_auto_rows": null,
      "grid_column": null,
      "grid_gap": null,
      "grid_row": null,
      "grid_template_areas": null,
      "grid_template_columns": null,
      "grid_template_rows": null,
      "height": null,
      "justify_content": null,
      "justify_items": null,
      "left": null,
      "margin": null,
      "max_height": null,
      "max_width": null,
      "min_height": null,
      "min_width": null,
      "object_fit": null,
      "object_position": null,
      "order": null,
      "overflow": null,
      "overflow_x": null,
      "overflow_y": null,
      "padding": null,
      "right": null,
      "top": null,
      "visibility": null,
      "width": null
     }
    },
    "8752f48fc9fa47e391baa3fc5a130299": {
     "model_module": "@jupyter-widgets/base",
     "model_module_version": "1.2.0",
     "model_name": "LayoutModel",
     "state": {
      "_model_module": "@jupyter-widgets/base",
      "_model_module_version": "1.2.0",
      "_model_name": "LayoutModel",
      "_view_count": null,
      "_view_module": "@jupyter-widgets/base",
      "_view_module_version": "1.2.0",
      "_view_name": "LayoutView",
      "align_content": null,
      "align_items": null,
      "align_self": null,
      "border": null,
      "bottom": null,
      "display": null,
      "flex": null,
      "flex_flow": null,
      "grid_area": null,
      "grid_auto_columns": null,
      "grid_auto_flow": null,
      "grid_auto_rows": null,
      "grid_column": null,
      "grid_gap": null,
      "grid_row": null,
      "grid_template_areas": null,
      "grid_template_columns": null,
      "grid_template_rows": null,
      "height": null,
      "justify_content": null,
      "justify_items": null,
      "left": null,
      "margin": null,
      "max_height": null,
      "max_width": null,
      "min_height": null,
      "min_width": null,
      "object_fit": null,
      "object_position": null,
      "order": null,
      "overflow": null,
      "overflow_x": null,
      "overflow_y": null,
      "padding": null,
      "right": null,
      "top": null,
      "visibility": null,
      "width": null
     }
    },
    "8bc6a9dcc9d34a0db1330d0c74222d40": {
     "model_module": "@jupyter-widgets/base",
     "model_module_version": "1.2.0",
     "model_name": "LayoutModel",
     "state": {
      "_model_module": "@jupyter-widgets/base",
      "_model_module_version": "1.2.0",
      "_model_name": "LayoutModel",
      "_view_count": null,
      "_view_module": "@jupyter-widgets/base",
      "_view_module_version": "1.2.0",
      "_view_name": "LayoutView",
      "align_content": null,
      "align_items": null,
      "align_self": null,
      "border": null,
      "bottom": null,
      "display": null,
      "flex": null,
      "flex_flow": null,
      "grid_area": null,
      "grid_auto_columns": null,
      "grid_auto_flow": null,
      "grid_auto_rows": null,
      "grid_column": null,
      "grid_gap": null,
      "grid_row": null,
      "grid_template_areas": null,
      "grid_template_columns": null,
      "grid_template_rows": null,
      "height": null,
      "justify_content": null,
      "justify_items": null,
      "left": null,
      "margin": null,
      "max_height": null,
      "max_width": null,
      "min_height": null,
      "min_width": null,
      "object_fit": null,
      "object_position": null,
      "order": null,
      "overflow": null,
      "overflow_x": null,
      "overflow_y": null,
      "padding": null,
      "right": null,
      "top": null,
      "visibility": null,
      "width": null
     }
    },
    "9fcb21320ad7462fbc3dcee63b9240e8": {
     "model_module": "@jupyter-widgets/controls",
     "model_module_version": "1.5.0",
     "model_name": "FloatProgressModel",
     "state": {
      "_dom_classes": [],
      "_model_module": "@jupyter-widgets/controls",
      "_model_module_version": "1.5.0",
      "_model_name": "FloatProgressModel",
      "_view_count": null,
      "_view_module": "@jupyter-widgets/controls",
      "_view_module_version": "1.5.0",
      "_view_name": "ProgressView",
      "bar_style": "success",
      "description": "",
      "description_tooltip": null,
      "layout": "IPY_MODEL_323feb33d42644d09b3dd323bf939557",
      "max": 5,
      "min": 0,
      "orientation": "horizontal",
      "style": "IPY_MODEL_b27b5aa649344473ba1a2733131ceb23",
      "value": 5
     }
    },
    "b27b5aa649344473ba1a2733131ceb23": {
     "model_module": "@jupyter-widgets/controls",
     "model_module_version": "1.5.0",
     "model_name": "ProgressStyleModel",
     "state": {
      "_model_module": "@jupyter-widgets/controls",
      "_model_module_version": "1.5.0",
      "_model_name": "ProgressStyleModel",
      "_view_count": null,
      "_view_module": "@jupyter-widgets/base",
      "_view_module_version": "1.2.0",
      "_view_name": "StyleView",
      "bar_color": null,
      "description_width": ""
     }
    },
    "b38e87df77474a9fb19ff3393a5caf63": {
     "model_module": "@jupyter-widgets/base",
     "model_module_version": "1.2.0",
     "model_name": "LayoutModel",
     "state": {
      "_model_module": "@jupyter-widgets/base",
      "_model_module_version": "1.2.0",
      "_model_name": "LayoutModel",
      "_view_count": null,
      "_view_module": "@jupyter-widgets/base",
      "_view_module_version": "1.2.0",
      "_view_name": "LayoutView",
      "align_content": null,
      "align_items": null,
      "align_self": null,
      "border": null,
      "bottom": null,
      "display": null,
      "flex": null,
      "flex_flow": null,
      "grid_area": null,
      "grid_auto_columns": null,
      "grid_auto_flow": null,
      "grid_auto_rows": null,
      "grid_column": null,
      "grid_gap": null,
      "grid_row": null,
      "grid_template_areas": null,
      "grid_template_columns": null,
      "grid_template_rows": null,
      "height": null,
      "justify_content": null,
      "justify_items": null,
      "left": null,
      "margin": null,
      "max_height": null,
      "max_width": null,
      "min_height": null,
      "min_width": null,
      "object_fit": null,
      "object_position": null,
      "order": null,
      "overflow": null,
      "overflow_x": null,
      "overflow_y": null,
      "padding": null,
      "right": null,
      "top": null,
      "visibility": null,
      "width": null
     }
    },
    "b7d45e236eec4d5aa0657ea5d997d9d9": {
     "model_module": "@jupyter-widgets/controls",
     "model_module_version": "1.5.0",
     "model_name": "HBoxModel",
     "state": {
      "_dom_classes": [],
      "_model_module": "@jupyter-widgets/controls",
      "_model_module_version": "1.5.0",
      "_model_name": "HBoxModel",
      "_view_count": null,
      "_view_module": "@jupyter-widgets/controls",
      "_view_module_version": "1.5.0",
      "_view_name": "HBoxView",
      "box_style": "",
      "children": [
       "IPY_MODEL_3bee76a89cc14e80af322fcd5ae63dcd",
       "IPY_MODEL_c3cd536cc05347d5b55ac39a7f778615",
       "IPY_MODEL_74176523ecd642c9915add93d7b59300"
      ],
      "layout": "IPY_MODEL_2fce7ff54dfa4bbb841c1941f6c6ca66"
     }
    },
    "bf53dcd458bb4c7cb7d197f065433756": {
     "model_module": "@jupyter-widgets/controls",
     "model_module_version": "1.5.0",
     "model_name": "ProgressStyleModel",
     "state": {
      "_model_module": "@jupyter-widgets/controls",
      "_model_module_version": "1.5.0",
      "_model_name": "ProgressStyleModel",
      "_view_count": null,
      "_view_module": "@jupyter-widgets/base",
      "_view_module_version": "1.2.0",
      "_view_name": "StyleView",
      "bar_color": null,
      "description_width": ""
     }
    },
    "c194bd36a50d46c1b39b3043db4a1bd7": {
     "model_module": "@jupyter-widgets/controls",
     "model_module_version": "1.5.0",
     "model_name": "FloatProgressModel",
     "state": {
      "_dom_classes": [],
      "_model_module": "@jupyter-widgets/controls",
      "_model_module_version": "1.5.0",
      "_model_name": "FloatProgressModel",
      "_view_count": null,
      "_view_module": "@jupyter-widgets/controls",
      "_view_module_version": "1.5.0",
      "_view_name": "ProgressView",
      "bar_style": "success",
      "description": "",
      "description_tooltip": null,
      "layout": "IPY_MODEL_d67f9159dba84061a215267ea1165ed6",
      "max": 1,
      "min": 0,
      "orientation": "horizontal",
      "style": "IPY_MODEL_bf53dcd458bb4c7cb7d197f065433756",
      "value": 1
     }
    },
    "c3cd536cc05347d5b55ac39a7f778615": {
     "model_module": "@jupyter-widgets/controls",
     "model_module_version": "1.5.0",
     "model_name": "FloatProgressModel",
     "state": {
      "_dom_classes": [],
      "_model_module": "@jupyter-widgets/controls",
      "_model_module_version": "1.5.0",
      "_model_name": "FloatProgressModel",
      "_view_count": null,
      "_view_module": "@jupyter-widgets/controls",
      "_view_module_version": "1.5.0",
      "_view_name": "ProgressView",
      "bar_style": "success",
      "description": "",
      "description_tooltip": null,
      "layout": "IPY_MODEL_8752f48fc9fa47e391baa3fc5a130299",
      "max": 1,
      "min": 0,
      "orientation": "horizontal",
      "style": "IPY_MODEL_e4910f2cb48b440abbbdc001270d3759",
      "value": 1
     }
    },
    "d67f9159dba84061a215267ea1165ed6": {
     "model_module": "@jupyter-widgets/base",
     "model_module_version": "1.2.0",
     "model_name": "LayoutModel",
     "state": {
      "_model_module": "@jupyter-widgets/base",
      "_model_module_version": "1.2.0",
      "_model_name": "LayoutModel",
      "_view_count": null,
      "_view_module": "@jupyter-widgets/base",
      "_view_module_version": "1.2.0",
      "_view_name": "LayoutView",
      "align_content": null,
      "align_items": null,
      "align_self": null,
      "border": null,
      "bottom": null,
      "display": null,
      "flex": null,
      "flex_flow": null,
      "grid_area": null,
      "grid_auto_columns": null,
      "grid_auto_flow": null,
      "grid_auto_rows": null,
      "grid_column": null,
      "grid_gap": null,
      "grid_row": null,
      "grid_template_areas": null,
      "grid_template_columns": null,
      "grid_template_rows": null,
      "height": null,
      "justify_content": null,
      "justify_items": null,
      "left": null,
      "margin": null,
      "max_height": null,
      "max_width": null,
      "min_height": null,
      "min_width": null,
      "object_fit": null,
      "object_position": null,
      "order": null,
      "overflow": null,
      "overflow_x": null,
      "overflow_y": null,
      "padding": null,
      "right": null,
      "top": null,
      "visibility": null,
      "width": null
     }
    },
    "df704d09ccdd4e8c8d924a268a375dd9": {
     "model_module": "@jupyter-widgets/controls",
     "model_module_version": "1.5.0",
     "model_name": "DescriptionStyleModel",
     "state": {
      "_model_module": "@jupyter-widgets/controls",
      "_model_module_version": "1.5.0",
      "_model_name": "DescriptionStyleModel",
      "_view_count": null,
      "_view_module": "@jupyter-widgets/base",
      "_view_module_version": "1.2.0",
      "_view_name": "StyleView",
      "description_width": ""
     }
    },
    "e4910f2cb48b440abbbdc001270d3759": {
     "model_module": "@jupyter-widgets/controls",
     "model_module_version": "1.5.0",
     "model_name": "ProgressStyleModel",
     "state": {
      "_model_module": "@jupyter-widgets/controls",
      "_model_module_version": "1.5.0",
      "_model_name": "ProgressStyleModel",
      "_view_count": null,
      "_view_module": "@jupyter-widgets/base",
      "_view_module_version": "1.2.0",
      "_view_name": "StyleView",
      "bar_color": null,
      "description_width": ""
     }
    },
    "e62069a056da49c7954f4532f4a68e62": {
     "model_module": "@jupyter-widgets/controls",
     "model_module_version": "1.5.0",
     "model_name": "DescriptionStyleModel",
     "state": {
      "_model_module": "@jupyter-widgets/controls",
      "_model_module_version": "1.5.0",
      "_model_name": "DescriptionStyleModel",
      "_view_count": null,
      "_view_module": "@jupyter-widgets/base",
      "_view_module_version": "1.2.0",
      "_view_name": "StyleView",
      "description_width": ""
     }
    },
    "eda6a94bc5084774bf8ce9f04b67cb4a": {
     "model_module": "@jupyter-widgets/controls",
     "model_module_version": "1.5.0",
     "model_name": "HTMLModel",
     "state": {
      "_dom_classes": [],
      "_model_module": "@jupyter-widgets/controls",
      "_model_module_version": "1.5.0",
      "_model_name": "HTMLModel",
      "_view_count": null,
      "_view_module": "@jupyter-widgets/controls",
      "_view_module_version": "1.5.0",
      "_view_name": "HTMLView",
      "description": "",
      "description_tooltip": null,
      "layout": "IPY_MODEL_b38e87df77474a9fb19ff3393a5caf63",
      "placeholder": "​",
      "style": "IPY_MODEL_1df3be8fa39e49f886471fc518e1ffad",
      "value": " 91/91 [01:18&lt;00:00,  1.88it/s, Completed]"
     }
    },
    "f049b04288ac43fbbf19178a3cb593e6": {
     "model_module": "@jupyter-widgets/controls",
     "model_module_version": "1.5.0",
     "model_name": "DescriptionStyleModel",
     "state": {
      "_model_module": "@jupyter-widgets/controls",
      "_model_module_version": "1.5.0",
      "_model_name": "DescriptionStyleModel",
      "_view_count": null,
      "_view_module": "@jupyter-widgets/base",
      "_view_module_version": "1.2.0",
      "_view_name": "StyleView",
      "description_width": ""
     }
    }
   }
  }
 },
 "nbformat": 4,
 "nbformat_minor": 1
}
