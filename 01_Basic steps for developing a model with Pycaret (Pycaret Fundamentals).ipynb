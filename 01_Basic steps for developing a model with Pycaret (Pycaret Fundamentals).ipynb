{
 "cells": [
  {
   "cell_type": "markdown",
   "metadata": {},
   "source": [
    "# Basic steps for developing a model with Pycaret"
   ]
  },
  {
   "cell_type": "code",
   "execution_count": 1,
   "metadata": {},
   "outputs": [],
   "source": [
    "#!pip install pycaret"
   ]
  },
  {
   "cell_type": "code",
   "execution_count": 2,
   "metadata": {},
   "outputs": [
    {
     "data": {
      "text/html": [
       "<div>\n",
       "<style scoped>\n",
       "    .dataframe tbody tr th:only-of-type {\n",
       "        vertical-align: middle;\n",
       "    }\n",
       "\n",
       "    .dataframe tbody tr th {\n",
       "        vertical-align: top;\n",
       "    }\n",
       "\n",
       "    .dataframe thead th {\n",
       "        text-align: right;\n",
       "    }\n",
       "</style>\n",
       "<table border=\"1\" class=\"dataframe\">\n",
       "  <thead>\n",
       "    <tr style=\"text-align: right;\">\n",
       "      <th></th>\n",
       "      <th>holiday</th>\n",
       "      <th>temp</th>\n",
       "      <th>rain_1h</th>\n",
       "      <th>snow_1h</th>\n",
       "      <th>clouds_all</th>\n",
       "      <th>weather_main</th>\n",
       "      <th>Rush Hour</th>\n",
       "      <th>traffic_volume</th>\n",
       "    </tr>\n",
       "  </thead>\n",
       "  <tbody>\n",
       "    <tr>\n",
       "      <th>0</th>\n",
       "      <td>None</td>\n",
       "      <td>288.28</td>\n",
       "      <td>0.0</td>\n",
       "      <td>0.0</td>\n",
       "      <td>40</td>\n",
       "      <td>Clouds</td>\n",
       "      <td>1</td>\n",
       "      <td>5545</td>\n",
       "    </tr>\n",
       "    <tr>\n",
       "      <th>1</th>\n",
       "      <td>None</td>\n",
       "      <td>289.36</td>\n",
       "      <td>0.0</td>\n",
       "      <td>0.0</td>\n",
       "      <td>75</td>\n",
       "      <td>Clouds</td>\n",
       "      <td>0</td>\n",
       "      <td>4516</td>\n",
       "    </tr>\n",
       "    <tr>\n",
       "      <th>2</th>\n",
       "      <td>None</td>\n",
       "      <td>289.58</td>\n",
       "      <td>0.0</td>\n",
       "      <td>0.0</td>\n",
       "      <td>90</td>\n",
       "      <td>Clouds</td>\n",
       "      <td>0</td>\n",
       "      <td>4767</td>\n",
       "    </tr>\n",
       "    <tr>\n",
       "      <th>3</th>\n",
       "      <td>None</td>\n",
       "      <td>290.13</td>\n",
       "      <td>0.0</td>\n",
       "      <td>0.0</td>\n",
       "      <td>90</td>\n",
       "      <td>Clouds</td>\n",
       "      <td>0</td>\n",
       "      <td>5026</td>\n",
       "    </tr>\n",
       "    <tr>\n",
       "      <th>4</th>\n",
       "      <td>None</td>\n",
       "      <td>291.14</td>\n",
       "      <td>0.0</td>\n",
       "      <td>0.0</td>\n",
       "      <td>75</td>\n",
       "      <td>Clouds</td>\n",
       "      <td>0</td>\n",
       "      <td>4918</td>\n",
       "    </tr>\n",
       "  </tbody>\n",
       "</table>\n",
       "</div>"
      ],
      "text/plain": [
       "  holiday    temp  rain_1h  snow_1h  clouds_all weather_main  Rush Hour  \\\n",
       "0    None  288.28      0.0      0.0          40       Clouds          1   \n",
       "1    None  289.36      0.0      0.0          75       Clouds          0   \n",
       "2    None  289.58      0.0      0.0          90       Clouds          0   \n",
       "3    None  290.13      0.0      0.0          90       Clouds          0   \n",
       "4    None  291.14      0.0      0.0          75       Clouds          0   \n",
       "\n",
       "   traffic_volume  \n",
       "0            5545  \n",
       "1            4516  \n",
       "2            4767  \n",
       "3            5026  \n",
       "4            4918  "
      ]
     },
     "metadata": {},
     "output_type": "display_data"
    }
   ],
   "source": [
    "from pycaret.datasets import get_data\n",
    "data1 = get_data(dataset = 'traffic')"
   ]
  },
  {
   "cell_type": "code",
   "execution_count": 3,
   "metadata": {},
   "outputs": [],
   "source": [
    "from pycaret.regression import *"
   ]
  },
  {
   "cell_type": "code",
   "execution_count": 5,
   "metadata": {
    "scrolled": false
   },
   "outputs": [
    {
     "data": {
      "text/html": [
       "<style type=\"text/css\">\n",
       "#T_dc79f_row9_col1 {\n",
       "  background-color: lightgreen;\n",
       "}\n",
       "</style>\n",
       "<table id=\"T_dc79f\">\n",
       "  <thead>\n",
       "    <tr>\n",
       "      <th class=\"blank level0\" >&nbsp;</th>\n",
       "      <th id=\"T_dc79f_level0_col0\" class=\"col_heading level0 col0\" >Description</th>\n",
       "      <th id=\"T_dc79f_level0_col1\" class=\"col_heading level0 col1\" >Value</th>\n",
       "    </tr>\n",
       "  </thead>\n",
       "  <tbody>\n",
       "    <tr>\n",
       "      <th id=\"T_dc79f_level0_row0\" class=\"row_heading level0 row0\" >0</th>\n",
       "      <td id=\"T_dc79f_row0_col0\" class=\"data row0 col0\" >Session id</td>\n",
       "      <td id=\"T_dc79f_row0_col1\" class=\"data row0 col1\" >438</td>\n",
       "    </tr>\n",
       "    <tr>\n",
       "      <th id=\"T_dc79f_level0_row1\" class=\"row_heading level0 row1\" >1</th>\n",
       "      <td id=\"T_dc79f_row1_col0\" class=\"data row1 col0\" >Target</td>\n",
       "      <td id=\"T_dc79f_row1_col1\" class=\"data row1 col1\" >traffic_volume</td>\n",
       "    </tr>\n",
       "    <tr>\n",
       "      <th id=\"T_dc79f_level0_row2\" class=\"row_heading level0 row2\" >2</th>\n",
       "      <td id=\"T_dc79f_row2_col0\" class=\"data row2 col0\" >Target type</td>\n",
       "      <td id=\"T_dc79f_row2_col1\" class=\"data row2 col1\" >Regression</td>\n",
       "    </tr>\n",
       "    <tr>\n",
       "      <th id=\"T_dc79f_level0_row3\" class=\"row_heading level0 row3\" >3</th>\n",
       "      <td id=\"T_dc79f_row3_col0\" class=\"data row3 col0\" >Original data shape</td>\n",
       "      <td id=\"T_dc79f_row3_col1\" class=\"data row3 col1\" >(48204, 8)</td>\n",
       "    </tr>\n",
       "    <tr>\n",
       "      <th id=\"T_dc79f_level0_row4\" class=\"row_heading level0 row4\" >4</th>\n",
       "      <td id=\"T_dc79f_row4_col0\" class=\"data row4 col0\" >Transformed data shape</td>\n",
       "      <td id=\"T_dc79f_row4_col1\" class=\"data row4 col1\" >(48204, 29)</td>\n",
       "    </tr>\n",
       "    <tr>\n",
       "      <th id=\"T_dc79f_level0_row5\" class=\"row_heading level0 row5\" >5</th>\n",
       "      <td id=\"T_dc79f_row5_col0\" class=\"data row5 col0\" >Transformed train set shape</td>\n",
       "      <td id=\"T_dc79f_row5_col1\" class=\"data row5 col1\" >(33742, 29)</td>\n",
       "    </tr>\n",
       "    <tr>\n",
       "      <th id=\"T_dc79f_level0_row6\" class=\"row_heading level0 row6\" >6</th>\n",
       "      <td id=\"T_dc79f_row6_col0\" class=\"data row6 col0\" >Transformed test set shape</td>\n",
       "      <td id=\"T_dc79f_row6_col1\" class=\"data row6 col1\" >(14462, 29)</td>\n",
       "    </tr>\n",
       "    <tr>\n",
       "      <th id=\"T_dc79f_level0_row7\" class=\"row_heading level0 row7\" >7</th>\n",
       "      <td id=\"T_dc79f_row7_col0\" class=\"data row7 col0\" >Numeric features</td>\n",
       "      <td id=\"T_dc79f_row7_col1\" class=\"data row7 col1\" >5</td>\n",
       "    </tr>\n",
       "    <tr>\n",
       "      <th id=\"T_dc79f_level0_row8\" class=\"row_heading level0 row8\" >8</th>\n",
       "      <td id=\"T_dc79f_row8_col0\" class=\"data row8 col0\" >Categorical features</td>\n",
       "      <td id=\"T_dc79f_row8_col1\" class=\"data row8 col1\" >2</td>\n",
       "    </tr>\n",
       "    <tr>\n",
       "      <th id=\"T_dc79f_level0_row9\" class=\"row_heading level0 row9\" >9</th>\n",
       "      <td id=\"T_dc79f_row9_col0\" class=\"data row9 col0\" >Preprocess</td>\n",
       "      <td id=\"T_dc79f_row9_col1\" class=\"data row9 col1\" >True</td>\n",
       "    </tr>\n",
       "    <tr>\n",
       "      <th id=\"T_dc79f_level0_row10\" class=\"row_heading level0 row10\" >10</th>\n",
       "      <td id=\"T_dc79f_row10_col0\" class=\"data row10 col0\" >Imputation type</td>\n",
       "      <td id=\"T_dc79f_row10_col1\" class=\"data row10 col1\" >simple</td>\n",
       "    </tr>\n",
       "    <tr>\n",
       "      <th id=\"T_dc79f_level0_row11\" class=\"row_heading level0 row11\" >11</th>\n",
       "      <td id=\"T_dc79f_row11_col0\" class=\"data row11 col0\" >Numeric imputation</td>\n",
       "      <td id=\"T_dc79f_row11_col1\" class=\"data row11 col1\" >mean</td>\n",
       "    </tr>\n",
       "    <tr>\n",
       "      <th id=\"T_dc79f_level0_row12\" class=\"row_heading level0 row12\" >12</th>\n",
       "      <td id=\"T_dc79f_row12_col0\" class=\"data row12 col0\" >Categorical imputation</td>\n",
       "      <td id=\"T_dc79f_row12_col1\" class=\"data row12 col1\" >mode</td>\n",
       "    </tr>\n",
       "    <tr>\n",
       "      <th id=\"T_dc79f_level0_row13\" class=\"row_heading level0 row13\" >13</th>\n",
       "      <td id=\"T_dc79f_row13_col0\" class=\"data row13 col0\" >Maximum one-hot encoding</td>\n",
       "      <td id=\"T_dc79f_row13_col1\" class=\"data row13 col1\" >25</td>\n",
       "    </tr>\n",
       "    <tr>\n",
       "      <th id=\"T_dc79f_level0_row14\" class=\"row_heading level0 row14\" >14</th>\n",
       "      <td id=\"T_dc79f_row14_col0\" class=\"data row14 col0\" >Encoding method</td>\n",
       "      <td id=\"T_dc79f_row14_col1\" class=\"data row14 col1\" >None</td>\n",
       "    </tr>\n",
       "    <tr>\n",
       "      <th id=\"T_dc79f_level0_row15\" class=\"row_heading level0 row15\" >15</th>\n",
       "      <td id=\"T_dc79f_row15_col0\" class=\"data row15 col0\" >Fold Generator</td>\n",
       "      <td id=\"T_dc79f_row15_col1\" class=\"data row15 col1\" >KFold</td>\n",
       "    </tr>\n",
       "    <tr>\n",
       "      <th id=\"T_dc79f_level0_row16\" class=\"row_heading level0 row16\" >16</th>\n",
       "      <td id=\"T_dc79f_row16_col0\" class=\"data row16 col0\" >Fold Number</td>\n",
       "      <td id=\"T_dc79f_row16_col1\" class=\"data row16 col1\" >10</td>\n",
       "    </tr>\n",
       "    <tr>\n",
       "      <th id=\"T_dc79f_level0_row17\" class=\"row_heading level0 row17\" >17</th>\n",
       "      <td id=\"T_dc79f_row17_col0\" class=\"data row17 col0\" >CPU Jobs</td>\n",
       "      <td id=\"T_dc79f_row17_col1\" class=\"data row17 col1\" >-1</td>\n",
       "    </tr>\n",
       "    <tr>\n",
       "      <th id=\"T_dc79f_level0_row18\" class=\"row_heading level0 row18\" >18</th>\n",
       "      <td id=\"T_dc79f_row18_col0\" class=\"data row18 col0\" >Use GPU</td>\n",
       "      <td id=\"T_dc79f_row18_col1\" class=\"data row18 col1\" >False</td>\n",
       "    </tr>\n",
       "    <tr>\n",
       "      <th id=\"T_dc79f_level0_row19\" class=\"row_heading level0 row19\" >19</th>\n",
       "      <td id=\"T_dc79f_row19_col0\" class=\"data row19 col0\" >Log Experiment</td>\n",
       "      <td id=\"T_dc79f_row19_col1\" class=\"data row19 col1\" >False</td>\n",
       "    </tr>\n",
       "    <tr>\n",
       "      <th id=\"T_dc79f_level0_row20\" class=\"row_heading level0 row20\" >20</th>\n",
       "      <td id=\"T_dc79f_row20_col0\" class=\"data row20 col0\" >Experiment Name</td>\n",
       "      <td id=\"T_dc79f_row20_col1\" class=\"data row20 col1\" >reg-default-name</td>\n",
       "    </tr>\n",
       "    <tr>\n",
       "      <th id=\"T_dc79f_level0_row21\" class=\"row_heading level0 row21\" >21</th>\n",
       "      <td id=\"T_dc79f_row21_col0\" class=\"data row21 col0\" >USI</td>\n",
       "      <td id=\"T_dc79f_row21_col1\" class=\"data row21 col1\" >c797</td>\n",
       "    </tr>\n",
       "  </tbody>\n",
       "</table>\n"
      ],
      "text/plain": [
       "<pandas.io.formats.style.Styler at 0x2547cd44510>"
      ]
     },
     "metadata": {},
     "output_type": "display_data"
    }
   ],
   "source": [
    "dataset = setup(data = data1, target = 'traffic_volume',\n",
    "                session_id = 438)"
   ]
  },
  {
   "cell_type": "code",
   "execution_count": 6,
   "metadata": {},
   "outputs": [
    {
     "data": {
      "text/html": [],
      "text/plain": [
       "<IPython.core.display.HTML object>"
      ]
     },
     "metadata": {},
     "output_type": "display_data"
    },
    {
     "data": {
      "text/html": [
       "<style type=\"text/css\">\n",
       "#T_457ca th {\n",
       "  text-align: left;\n",
       "}\n",
       "#T_457ca_row0_col0, #T_457ca_row0_col6, #T_457ca_row1_col0, #T_457ca_row1_col1, #T_457ca_row1_col2, #T_457ca_row1_col3, #T_457ca_row1_col4, #T_457ca_row1_col5, #T_457ca_row1_col6, #T_457ca_row2_col0, #T_457ca_row2_col1, #T_457ca_row2_col2, #T_457ca_row2_col3, #T_457ca_row2_col4, #T_457ca_row2_col5, #T_457ca_row2_col6, #T_457ca_row3_col0, #T_457ca_row3_col1, #T_457ca_row3_col2, #T_457ca_row3_col3, #T_457ca_row3_col4, #T_457ca_row3_col5, #T_457ca_row3_col6, #T_457ca_row4_col0, #T_457ca_row4_col1, #T_457ca_row4_col2, #T_457ca_row4_col3, #T_457ca_row4_col4, #T_457ca_row4_col5, #T_457ca_row4_col6, #T_457ca_row5_col0, #T_457ca_row5_col1, #T_457ca_row5_col2, #T_457ca_row5_col3, #T_457ca_row5_col4, #T_457ca_row5_col5, #T_457ca_row5_col6, #T_457ca_row6_col0, #T_457ca_row6_col1, #T_457ca_row6_col2, #T_457ca_row6_col3, #T_457ca_row6_col4, #T_457ca_row6_col5, #T_457ca_row6_col6, #T_457ca_row7_col0, #T_457ca_row7_col1, #T_457ca_row7_col2, #T_457ca_row7_col3, #T_457ca_row7_col4, #T_457ca_row7_col5, #T_457ca_row7_col6, #T_457ca_row8_col0, #T_457ca_row8_col1, #T_457ca_row8_col2, #T_457ca_row8_col3, #T_457ca_row8_col4, #T_457ca_row8_col5, #T_457ca_row8_col6, #T_457ca_row9_col0, #T_457ca_row9_col1, #T_457ca_row9_col2, #T_457ca_row9_col3, #T_457ca_row9_col4, #T_457ca_row9_col5, #T_457ca_row9_col6, #T_457ca_row10_col0, #T_457ca_row10_col1, #T_457ca_row10_col2, #T_457ca_row10_col3, #T_457ca_row10_col4, #T_457ca_row10_col5, #T_457ca_row10_col6, #T_457ca_row11_col0, #T_457ca_row11_col1, #T_457ca_row11_col2, #T_457ca_row11_col3, #T_457ca_row11_col4, #T_457ca_row11_col5, #T_457ca_row11_col6, #T_457ca_row12_col0, #T_457ca_row12_col1, #T_457ca_row12_col2, #T_457ca_row12_col3, #T_457ca_row12_col4, #T_457ca_row12_col5, #T_457ca_row12_col6, #T_457ca_row13_col0, #T_457ca_row13_col1, #T_457ca_row13_col2, #T_457ca_row13_col3, #T_457ca_row13_col4, #T_457ca_row13_col5, #T_457ca_row13_col6, #T_457ca_row14_col0, #T_457ca_row14_col1, #T_457ca_row14_col2, #T_457ca_row14_col3, #T_457ca_row14_col4, #T_457ca_row14_col5, #T_457ca_row14_col6, #T_457ca_row15_col0, #T_457ca_row15_col1, #T_457ca_row15_col2, #T_457ca_row15_col3, #T_457ca_row15_col4, #T_457ca_row15_col5, #T_457ca_row15_col6, #T_457ca_row16_col0, #T_457ca_row16_col1, #T_457ca_row16_col2, #T_457ca_row16_col3, #T_457ca_row16_col4, #T_457ca_row16_col5, #T_457ca_row16_col6, #T_457ca_row17_col0, #T_457ca_row17_col1, #T_457ca_row17_col2, #T_457ca_row17_col3, #T_457ca_row17_col4, #T_457ca_row17_col5 {\n",
       "  text-align: left;\n",
       "}\n",
       "#T_457ca_row0_col1, #T_457ca_row0_col2, #T_457ca_row0_col3, #T_457ca_row0_col4, #T_457ca_row0_col5, #T_457ca_row17_col6 {\n",
       "  text-align: left;\n",
       "  background-color: yellow;\n",
       "}\n",
       "#T_457ca_row0_col7, #T_457ca_row1_col7, #T_457ca_row2_col7, #T_457ca_row3_col7, #T_457ca_row4_col7, #T_457ca_row5_col7, #T_457ca_row6_col7, #T_457ca_row7_col7, #T_457ca_row8_col7, #T_457ca_row9_col7, #T_457ca_row10_col7, #T_457ca_row12_col7, #T_457ca_row13_col7, #T_457ca_row14_col7, #T_457ca_row15_col7, #T_457ca_row16_col7, #T_457ca_row17_col7 {\n",
       "  text-align: left;\n",
       "  background-color: lightgrey;\n",
       "}\n",
       "#T_457ca_row11_col7 {\n",
       "  text-align: left;\n",
       "  background-color: yellow;\n",
       "  background-color: lightgrey;\n",
       "}\n",
       "</style>\n",
       "<table id=\"T_457ca\">\n",
       "  <thead>\n",
       "    <tr>\n",
       "      <th class=\"blank level0\" >&nbsp;</th>\n",
       "      <th id=\"T_457ca_level0_col0\" class=\"col_heading level0 col0\" >Model</th>\n",
       "      <th id=\"T_457ca_level0_col1\" class=\"col_heading level0 col1\" >MAE</th>\n",
       "      <th id=\"T_457ca_level0_col2\" class=\"col_heading level0 col2\" >MSE</th>\n",
       "      <th id=\"T_457ca_level0_col3\" class=\"col_heading level0 col3\" >RMSE</th>\n",
       "      <th id=\"T_457ca_level0_col4\" class=\"col_heading level0 col4\" >R2</th>\n",
       "      <th id=\"T_457ca_level0_col5\" class=\"col_heading level0 col5\" >RMSLE</th>\n",
       "      <th id=\"T_457ca_level0_col6\" class=\"col_heading level0 col6\" >MAPE</th>\n",
       "      <th id=\"T_457ca_level0_col7\" class=\"col_heading level0 col7\" >TT (Sec)</th>\n",
       "    </tr>\n",
       "  </thead>\n",
       "  <tbody>\n",
       "    <tr>\n",
       "      <th id=\"T_457ca_level0_row0\" class=\"row_heading level0 row0\" >lightgbm</th>\n",
       "      <td id=\"T_457ca_row0_col0\" class=\"data row0 col0\" >Light Gradient Boosting Machine</td>\n",
       "      <td id=\"T_457ca_row0_col1\" class=\"data row0 col1\" >1502.4277</td>\n",
       "      <td id=\"T_457ca_row0_col2\" class=\"data row0 col2\" >3077063.5115</td>\n",
       "      <td id=\"T_457ca_row0_col3\" class=\"data row0 col3\" >1754.0547</td>\n",
       "      <td id=\"T_457ca_row0_col4\" class=\"data row0 col4\" >0.2189</td>\n",
       "      <td id=\"T_457ca_row0_col5\" class=\"data row0 col5\" >0.9297</td>\n",
       "      <td id=\"T_457ca_row0_col6\" class=\"data row0 col6\" >2.4635</td>\n",
       "      <td id=\"T_457ca_row0_col7\" class=\"data row0 col7\" >0.3050</td>\n",
       "    </tr>\n",
       "    <tr>\n",
       "      <th id=\"T_457ca_level0_row1\" class=\"row_heading level0 row1\" >gbr</th>\n",
       "      <td id=\"T_457ca_row1_col0\" class=\"data row1 col0\" >Gradient Boosting Regressor</td>\n",
       "      <td id=\"T_457ca_row1_col1\" class=\"data row1 col1\" >1530.7769</td>\n",
       "      <td id=\"T_457ca_row1_col2\" class=\"data row1 col2\" >3148984.7500</td>\n",
       "      <td id=\"T_457ca_row1_col3\" class=\"data row1 col3\" >1774.4289</td>\n",
       "      <td id=\"T_457ca_row1_col4\" class=\"data row1 col4\" >0.2006</td>\n",
       "      <td id=\"T_457ca_row1_col5\" class=\"data row1 col5\" >0.9421</td>\n",
       "      <td id=\"T_457ca_row1_col6\" class=\"data row1 col6\" >2.5603</td>\n",
       "      <td id=\"T_457ca_row1_col7\" class=\"data row1 col7\" >1.0710</td>\n",
       "    </tr>\n",
       "    <tr>\n",
       "      <th id=\"T_457ca_level0_row2\" class=\"row_heading level0 row2\" >ada</th>\n",
       "      <td id=\"T_457ca_row2_col0\" class=\"data row2 col0\" >AdaBoost Regressor</td>\n",
       "      <td id=\"T_457ca_row2_col1\" class=\"data row2 col1\" >1577.2863</td>\n",
       "      <td id=\"T_457ca_row2_col2\" class=\"data row2 col2\" >3282090.0319</td>\n",
       "      <td id=\"T_457ca_row2_col3\" class=\"data row2 col3\" >1811.5740</td>\n",
       "      <td id=\"T_457ca_row2_col4\" class=\"data row2 col4\" >0.1669</td>\n",
       "      <td id=\"T_457ca_row2_col5\" class=\"data row2 col5\" >0.9730</td>\n",
       "      <td id=\"T_457ca_row2_col6\" class=\"data row2 col6\" >2.7074</td>\n",
       "      <td id=\"T_457ca_row2_col7\" class=\"data row2 col7\" >0.5000</td>\n",
       "    </tr>\n",
       "    <tr>\n",
       "      <th id=\"T_457ca_level0_row3\" class=\"row_heading level0 row3\" >knn</th>\n",
       "      <td id=\"T_457ca_row3_col0\" class=\"data row3 col0\" >K Neighbors Regressor</td>\n",
       "      <td id=\"T_457ca_row3_col1\" class=\"data row3 col1\" >1573.7193</td>\n",
       "      <td id=\"T_457ca_row3_col2\" class=\"data row3 col2\" >3662877.1551</td>\n",
       "      <td id=\"T_457ca_row3_col3\" class=\"data row3 col3\" >1913.7609</td>\n",
       "      <td id=\"T_457ca_row3_col4\" class=\"data row3 col4\" >0.0702</td>\n",
       "      <td id=\"T_457ca_row3_col5\" class=\"data row3 col5\" >0.9602</td>\n",
       "      <td id=\"T_457ca_row3_col6\" class=\"data row3 col6\" >2.5605</td>\n",
       "      <td id=\"T_457ca_row3_col7\" class=\"data row3 col7\" >0.3820</td>\n",
       "    </tr>\n",
       "    <tr>\n",
       "      <th id=\"T_457ca_level0_row4\" class=\"row_heading level0 row4\" >rf</th>\n",
       "      <td id=\"T_457ca_row4_col0\" class=\"data row4 col0\" >Random Forest Regressor</td>\n",
       "      <td id=\"T_457ca_row4_col1\" class=\"data row4 col1\" >1547.0023</td>\n",
       "      <td id=\"T_457ca_row4_col2\" class=\"data row4 col2\" >3740449.9683</td>\n",
       "      <td id=\"T_457ca_row4_col3\" class=\"data row4 col3\" >1933.7739</td>\n",
       "      <td id=\"T_457ca_row4_col4\" class=\"data row4 col4\" >0.0504</td>\n",
       "      <td id=\"T_457ca_row4_col5\" class=\"data row4 col5\" >0.9554</td>\n",
       "      <td id=\"T_457ca_row4_col6\" class=\"data row4 col6\" >2.4869</td>\n",
       "      <td id=\"T_457ca_row4_col7\" class=\"data row4 col7\" >4.6970</td>\n",
       "    </tr>\n",
       "    <tr>\n",
       "      <th id=\"T_457ca_level0_row5\" class=\"row_heading level0 row5\" >omp</th>\n",
       "      <td id=\"T_457ca_row5_col0\" class=\"data row5 col0\" >Orthogonal Matching Pursuit</td>\n",
       "      <td id=\"T_457ca_row5_col1\" class=\"data row5 col1\" >1712.8788</td>\n",
       "      <td id=\"T_457ca_row5_col2\" class=\"data row5 col2\" >3848922.2942</td>\n",
       "      <td id=\"T_457ca_row5_col3\" class=\"data row5 col3\" >1961.8288</td>\n",
       "      <td id=\"T_457ca_row5_col4\" class=\"data row5 col4\" >0.0229</td>\n",
       "      <td id=\"T_457ca_row5_col5\" class=\"data row5 col5\" >1.0224</td>\n",
       "      <td id=\"T_457ca_row5_col6\" class=\"data row5 col6\" >2.9640</td>\n",
       "      <td id=\"T_457ca_row5_col7\" class=\"data row5 col7\" >0.1200</td>\n",
       "    </tr>\n",
       "    <tr>\n",
       "      <th id=\"T_457ca_level0_row6\" class=\"row_heading level0 row6\" >dummy</th>\n",
       "      <td id=\"T_457ca_row6_col0\" class=\"data row6 col0\" >Dummy Regressor</td>\n",
       "      <td id=\"T_457ca_row6_col1\" class=\"data row6 col1\" >1743.7632</td>\n",
       "      <td id=\"T_457ca_row6_col2\" class=\"data row6 col2\" >3939897.8403</td>\n",
       "      <td id=\"T_457ca_row6_col3\" class=\"data row6 col3\" >1984.8734</td>\n",
       "      <td id=\"T_457ca_row6_col4\" class=\"data row6 col4\" >-0.0001</td>\n",
       "      <td id=\"T_457ca_row6_col5\" class=\"data row6 col5\" >1.0318</td>\n",
       "      <td id=\"T_457ca_row6_col6\" class=\"data row6 col6\" >2.9022</td>\n",
       "      <td id=\"T_457ca_row6_col7\" class=\"data row6 col7\" >0.1150</td>\n",
       "    </tr>\n",
       "    <tr>\n",
       "      <th id=\"T_457ca_level0_row7\" class=\"row_heading level0 row7\" >et</th>\n",
       "      <td id=\"T_457ca_row7_col0\" class=\"data row7 col0\" >Extra Trees Regressor</td>\n",
       "      <td id=\"T_457ca_row7_col1\" class=\"data row7 col1\" >1679.3206</td>\n",
       "      <td id=\"T_457ca_row7_col2\" class=\"data row7 col2\" >4592693.0108</td>\n",
       "      <td id=\"T_457ca_row7_col3\" class=\"data row7 col3\" >2142.8898</td>\n",
       "      <td id=\"T_457ca_row7_col4\" class=\"data row7 col4\" >-0.1661</td>\n",
       "      <td id=\"T_457ca_row7_col5\" class=\"data row7 col5\" >1.0486</td>\n",
       "      <td id=\"T_457ca_row7_col6\" class=\"data row7 col6\" >2.6657</td>\n",
       "      <td id=\"T_457ca_row7_col7\" class=\"data row7 col7\" >2.9070</td>\n",
       "    </tr>\n",
       "    <tr>\n",
       "      <th id=\"T_457ca_level0_row8\" class=\"row_heading level0 row8\" >dt</th>\n",
       "      <td id=\"T_457ca_row8_col0\" class=\"data row8 col0\" >Decision Tree Regressor</td>\n",
       "      <td id=\"T_457ca_row8_col1\" class=\"data row8 col1\" >1749.2798</td>\n",
       "      <td id=\"T_457ca_row8_col2\" class=\"data row8 col2\" >5217471.6829</td>\n",
       "      <td id=\"T_457ca_row8_col3\" class=\"data row8 col3\" >2283.9553</td>\n",
       "      <td id=\"T_457ca_row8_col4\" class=\"data row8 col4\" >-0.3246</td>\n",
       "      <td id=\"T_457ca_row8_col5\" class=\"data row8 col5\" >1.1263</td>\n",
       "      <td id=\"T_457ca_row8_col6\" class=\"data row8 col6\" >2.5748</td>\n",
       "      <td id=\"T_457ca_row8_col7\" class=\"data row8 col7\" >0.1530</td>\n",
       "    </tr>\n",
       "    <tr>\n",
       "      <th id=\"T_457ca_level0_row9\" class=\"row_heading level0 row9\" >huber</th>\n",
       "      <td id=\"T_457ca_row9_col0\" class=\"data row9 col0\" >Huber Regressor</td>\n",
       "      <td id=\"T_457ca_row9_col1\" class=\"data row9 col1\" >1611.7679</td>\n",
       "      <td id=\"T_457ca_row9_col2\" class=\"data row9 col2\" >8073109.9280</td>\n",
       "      <td id=\"T_457ca_row9_col3\" class=\"data row9 col3\" >2363.8425</td>\n",
       "      <td id=\"T_457ca_row9_col4\" class=\"data row9 col4\" >-1.0665</td>\n",
       "      <td id=\"T_457ca_row9_col5\" class=\"data row9 col5\" >0.9607</td>\n",
       "      <td id=\"T_457ca_row9_col6\" class=\"data row9 col6\" >2.6034</td>\n",
       "      <td id=\"T_457ca_row9_col7\" class=\"data row9 col7\" >0.7920</td>\n",
       "    </tr>\n",
       "    <tr>\n",
       "      <th id=\"T_457ca_level0_row10\" class=\"row_heading level0 row10\" >ridge</th>\n",
       "      <td id=\"T_457ca_row10_col0\" class=\"data row10 col0\" >Ridge Regression</td>\n",
       "      <td id=\"T_457ca_row10_col1\" class=\"data row10 col1\" >1604.9828</td>\n",
       "      <td id=\"T_457ca_row10_col2\" class=\"data row10 col2\" >9626886.6644</td>\n",
       "      <td id=\"T_457ca_row10_col3\" class=\"data row10 col3\" >2459.3697</td>\n",
       "      <td id=\"T_457ca_row10_col4\" class=\"data row10 col4\" >-1.4667</td>\n",
       "      <td id=\"T_457ca_row10_col5\" class=\"data row10 col5\" >0.9637</td>\n",
       "      <td id=\"T_457ca_row10_col6\" class=\"data row10 col6\" >2.6736</td>\n",
       "      <td id=\"T_457ca_row10_col7\" class=\"data row10 col7\" >0.0980</td>\n",
       "    </tr>\n",
       "    <tr>\n",
       "      <th id=\"T_457ca_level0_row11\" class=\"row_heading level0 row11\" >lar</th>\n",
       "      <td id=\"T_457ca_row11_col0\" class=\"data row11 col0\" >Least Angle Regression</td>\n",
       "      <td id=\"T_457ca_row11_col1\" class=\"data row11 col1\" >1606.4450</td>\n",
       "      <td id=\"T_457ca_row11_col2\" class=\"data row11 col2\" >9631117.7043</td>\n",
       "      <td id=\"T_457ca_row11_col3\" class=\"data row11 col3\" >2461.0219</td>\n",
       "      <td id=\"T_457ca_row11_col4\" class=\"data row11 col4\" >-1.4678</td>\n",
       "      <td id=\"T_457ca_row11_col5\" class=\"data row11 col5\" >0.9650</td>\n",
       "      <td id=\"T_457ca_row11_col6\" class=\"data row11 col6\" >2.6800</td>\n",
       "      <td id=\"T_457ca_row11_col7\" class=\"data row11 col7\" >0.0950</td>\n",
       "    </tr>\n",
       "    <tr>\n",
       "      <th id=\"T_457ca_level0_row12\" class=\"row_heading level0 row12\" >lr</th>\n",
       "      <td id=\"T_457ca_row12_col0\" class=\"data row12 col0\" >Linear Regression</td>\n",
       "      <td id=\"T_457ca_row12_col1\" class=\"data row12 col1\" >1604.9857</td>\n",
       "      <td id=\"T_457ca_row12_col2\" class=\"data row12 col2\" >9640727.0983</td>\n",
       "      <td id=\"T_457ca_row12_col3\" class=\"data row12 col3\" >2460.2348</td>\n",
       "      <td id=\"T_457ca_row12_col4\" class=\"data row12 col4\" >-1.4703</td>\n",
       "      <td id=\"T_457ca_row12_col5\" class=\"data row12 col5\" >0.9640</td>\n",
       "      <td id=\"T_457ca_row12_col6\" class=\"data row12 col6\" >2.6733</td>\n",
       "      <td id=\"T_457ca_row12_col7\" class=\"data row12 col7\" >0.9220</td>\n",
       "    </tr>\n",
       "    <tr>\n",
       "      <th id=\"T_457ca_level0_row13\" class=\"row_heading level0 row13\" >br</th>\n",
       "      <td id=\"T_457ca_row13_col0\" class=\"data row13 col0\" >Bayesian Ridge</td>\n",
       "      <td id=\"T_457ca_row13_col1\" class=\"data row13 col1\" >1605.3025</td>\n",
       "      <td id=\"T_457ca_row13_col2\" class=\"data row13 col2\" >9660815.9159</td>\n",
       "      <td id=\"T_457ca_row13_col3\" class=\"data row13 col3\" >2461.5330</td>\n",
       "      <td id=\"T_457ca_row13_col4\" class=\"data row13 col4\" >-1.4755</td>\n",
       "      <td id=\"T_457ca_row13_col5\" class=\"data row13 col5\" >0.9638</td>\n",
       "      <td id=\"T_457ca_row13_col6\" class=\"data row13 col6\" >2.6744</td>\n",
       "      <td id=\"T_457ca_row13_col7\" class=\"data row13 col7\" >0.1330</td>\n",
       "    </tr>\n",
       "    <tr>\n",
       "      <th id=\"T_457ca_level0_row14\" class=\"row_heading level0 row14\" >lasso</th>\n",
       "      <td id=\"T_457ca_row14_col0\" class=\"data row14 col0\" >Lasso Regression</td>\n",
       "      <td id=\"T_457ca_row14_col1\" class=\"data row14 col1\" >1606.1894</td>\n",
       "      <td id=\"T_457ca_row14_col2\" class=\"data row14 col2\" >9795654.9801</td>\n",
       "      <td id=\"T_457ca_row14_col3\" class=\"data row14 col3\" >2469.9032</td>\n",
       "      <td id=\"T_457ca_row14_col4\" class=\"data row14 col4\" >-1.5102</td>\n",
       "      <td id=\"T_457ca_row14_col5\" class=\"data row14 col5\" >0.9642</td>\n",
       "      <td id=\"T_457ca_row14_col6\" class=\"data row14 col6\" >2.6779</td>\n",
       "      <td id=\"T_457ca_row14_col7\" class=\"data row14 col7\" >0.1840</td>\n",
       "    </tr>\n",
       "    <tr>\n",
       "      <th id=\"T_457ca_level0_row15\" class=\"row_heading level0 row15\" >llar</th>\n",
       "      <td id=\"T_457ca_row15_col0\" class=\"data row15 col0\" >Lasso Least Angle Regression</td>\n",
       "      <td id=\"T_457ca_row15_col1\" class=\"data row15 col1\" >1606.1892</td>\n",
       "      <td id=\"T_457ca_row15_col2\" class=\"data row15 col2\" >9795590.3395</td>\n",
       "      <td id=\"T_457ca_row15_col3\" class=\"data row15 col3\" >2469.8992</td>\n",
       "      <td id=\"T_457ca_row15_col4\" class=\"data row15 col4\" >-1.5102</td>\n",
       "      <td id=\"T_457ca_row15_col5\" class=\"data row15 col5\" >0.9642</td>\n",
       "      <td id=\"T_457ca_row15_col6\" class=\"data row15 col6\" >2.6779</td>\n",
       "      <td id=\"T_457ca_row15_col7\" class=\"data row15 col7\" >0.1140</td>\n",
       "    </tr>\n",
       "    <tr>\n",
       "      <th id=\"T_457ca_level0_row16\" class=\"row_heading level0 row16\" >en</th>\n",
       "      <td id=\"T_457ca_row16_col0\" class=\"data row16 col0\" >Elastic Net</td>\n",
       "      <td id=\"T_457ca_row16_col1\" class=\"data row16 col1\" >1677.1618</td>\n",
       "      <td id=\"T_457ca_row16_col2\" class=\"data row16 col2\" >11336344.2071</td>\n",
       "      <td id=\"T_457ca_row16_col3\" class=\"data row16 col3\" >2611.3085</td>\n",
       "      <td id=\"T_457ca_row16_col4\" class=\"data row16 col4\" >-1.9059</td>\n",
       "      <td id=\"T_457ca_row16_col5\" class=\"data row16 col5\" >1.0040</td>\n",
       "      <td id=\"T_457ca_row16_col6\" class=\"data row16 col6\" >2.8827</td>\n",
       "      <td id=\"T_457ca_row16_col7\" class=\"data row16 col7\" >0.1020</td>\n",
       "    </tr>\n",
       "    <tr>\n",
       "      <th id=\"T_457ca_level0_row17\" class=\"row_heading level0 row17\" >par</th>\n",
       "      <td id=\"T_457ca_row17_col0\" class=\"data row17 col0\" >Passive Aggressive Regressor</td>\n",
       "      <td id=\"T_457ca_row17_col1\" class=\"data row17 col1\" >2259.3406</td>\n",
       "      <td id=\"T_457ca_row17_col2\" class=\"data row17 col2\" >13348484.0285</td>\n",
       "      <td id=\"T_457ca_row17_col3\" class=\"data row17 col3\" >3262.1063</td>\n",
       "      <td id=\"T_457ca_row17_col4\" class=\"data row17 col4\" >-2.4067</td>\n",
       "      <td id=\"T_457ca_row17_col5\" class=\"data row17 col5\" >1.5923</td>\n",
       "      <td id=\"T_457ca_row17_col6\" class=\"data row17 col6\" >2.1049</td>\n",
       "      <td id=\"T_457ca_row17_col7\" class=\"data row17 col7\" >0.2380</td>\n",
       "    </tr>\n",
       "  </tbody>\n",
       "</table>\n"
      ],
      "text/plain": [
       "<pandas.io.formats.style.Styler at 0x2547d2bc990>"
      ]
     },
     "metadata": {},
     "output_type": "display_data"
    },
    {
     "data": {
      "text/html": [],
      "text/plain": [
       "<IPython.core.display.HTML object>"
      ]
     },
     "metadata": {},
     "output_type": "display_data"
    }
   ],
   "source": [
    "best = compare_models()"
   ]
  },
  {
   "cell_type": "code",
   "execution_count": 7,
   "metadata": {},
   "outputs": [
    {
     "data": {
      "text/html": [],
      "text/plain": [
       "<IPython.core.display.HTML object>"
      ]
     },
     "metadata": {},
     "output_type": "display_data"
    },
    {
     "data": {
      "text/html": [
       "<style type=\"text/css\">\n",
       "#T_f78e5_row10_col0, #T_f78e5_row10_col1, #T_f78e5_row10_col2, #T_f78e5_row10_col3, #T_f78e5_row10_col4, #T_f78e5_row10_col5 {\n",
       "  background: yellow;\n",
       "}\n",
       "</style>\n",
       "<table id=\"T_f78e5\">\n",
       "  <thead>\n",
       "    <tr>\n",
       "      <th class=\"blank level0\" >&nbsp;</th>\n",
       "      <th id=\"T_f78e5_level0_col0\" class=\"col_heading level0 col0\" >MAE</th>\n",
       "      <th id=\"T_f78e5_level0_col1\" class=\"col_heading level0 col1\" >MSE</th>\n",
       "      <th id=\"T_f78e5_level0_col2\" class=\"col_heading level0 col2\" >RMSE</th>\n",
       "      <th id=\"T_f78e5_level0_col3\" class=\"col_heading level0 col3\" >R2</th>\n",
       "      <th id=\"T_f78e5_level0_col4\" class=\"col_heading level0 col4\" >RMSLE</th>\n",
       "      <th id=\"T_f78e5_level0_col5\" class=\"col_heading level0 col5\" >MAPE</th>\n",
       "    </tr>\n",
       "    <tr>\n",
       "      <th class=\"index_name level0\" >Fold</th>\n",
       "      <th class=\"blank col0\" >&nbsp;</th>\n",
       "      <th class=\"blank col1\" >&nbsp;</th>\n",
       "      <th class=\"blank col2\" >&nbsp;</th>\n",
       "      <th class=\"blank col3\" >&nbsp;</th>\n",
       "      <th class=\"blank col4\" >&nbsp;</th>\n",
       "      <th class=\"blank col5\" >&nbsp;</th>\n",
       "    </tr>\n",
       "  </thead>\n",
       "  <tbody>\n",
       "    <tr>\n",
       "      <th id=\"T_f78e5_level0_row0\" class=\"row_heading level0 row0\" >0</th>\n",
       "      <td id=\"T_f78e5_row0_col0\" class=\"data row0 col0\" >1486.2811</td>\n",
       "      <td id=\"T_f78e5_row0_col1\" class=\"data row0 col1\" >3054604.8890</td>\n",
       "      <td id=\"T_f78e5_row0_col2\" class=\"data row0 col2\" >1747.7428</td>\n",
       "      <td id=\"T_f78e5_row0_col3\" class=\"data row0 col3\" >0.2134</td>\n",
       "      <td id=\"T_f78e5_row0_col4\" class=\"data row0 col4\" >0.9327</td>\n",
       "      <td id=\"T_f78e5_row0_col5\" class=\"data row0 col5\" >5.0459</td>\n",
       "    </tr>\n",
       "    <tr>\n",
       "      <th id=\"T_f78e5_level0_row1\" class=\"row_heading level0 row1\" >1</th>\n",
       "      <td id=\"T_f78e5_row1_col0\" class=\"data row1 col0\" >1509.9101</td>\n",
       "      <td id=\"T_f78e5_row1_col1\" class=\"data row1 col1\" >3123112.3214</td>\n",
       "      <td id=\"T_f78e5_row1_col2\" class=\"data row1 col2\" >1767.2330</td>\n",
       "      <td id=\"T_f78e5_row1_col3\" class=\"data row1 col3\" >0.2099</td>\n",
       "      <td id=\"T_f78e5_row1_col4\" class=\"data row1 col4\" >0.9357</td>\n",
       "      <td id=\"T_f78e5_row1_col5\" class=\"data row1 col5\" >2.6766</td>\n",
       "    </tr>\n",
       "    <tr>\n",
       "      <th id=\"T_f78e5_level0_row2\" class=\"row_heading level0 row2\" >2</th>\n",
       "      <td id=\"T_f78e5_row2_col0\" class=\"data row2 col0\" >1503.5700</td>\n",
       "      <td id=\"T_f78e5_row2_col1\" class=\"data row2 col1\" >3098646.5240</td>\n",
       "      <td id=\"T_f78e5_row2_col2\" class=\"data row2 col2\" >1760.2973</td>\n",
       "      <td id=\"T_f78e5_row2_col3\" class=\"data row2 col3\" >0.2193</td>\n",
       "      <td id=\"T_f78e5_row2_col4\" class=\"data row2 col4\" >0.9388</td>\n",
       "      <td id=\"T_f78e5_row2_col5\" class=\"data row2 col5\" >2.1946</td>\n",
       "    </tr>\n",
       "    <tr>\n",
       "      <th id=\"T_f78e5_level0_row3\" class=\"row_heading level0 row3\" >3</th>\n",
       "      <td id=\"T_f78e5_row3_col0\" class=\"data row3 col0\" >1490.2079</td>\n",
       "      <td id=\"T_f78e5_row3_col1\" class=\"data row3 col1\" >3054327.4922</td>\n",
       "      <td id=\"T_f78e5_row3_col2\" class=\"data row3 col2\" >1747.6634</td>\n",
       "      <td id=\"T_f78e5_row3_col3\" class=\"data row3 col3\" >0.2206</td>\n",
       "      <td id=\"T_f78e5_row3_col4\" class=\"data row3 col4\" >0.9207</td>\n",
       "      <td id=\"T_f78e5_row3_col5\" class=\"data row3 col5\" >3.0757</td>\n",
       "    </tr>\n",
       "    <tr>\n",
       "      <th id=\"T_f78e5_level0_row4\" class=\"row_heading level0 row4\" >4</th>\n",
       "      <td id=\"T_f78e5_row4_col0\" class=\"data row4 col0\" >1512.5551</td>\n",
       "      <td id=\"T_f78e5_row4_col1\" class=\"data row4 col1\" >3115128.6707</td>\n",
       "      <td id=\"T_f78e5_row4_col2\" class=\"data row4 col2\" >1764.9727</td>\n",
       "      <td id=\"T_f78e5_row4_col3\" class=\"data row4 col3\" >0.2296</td>\n",
       "      <td id=\"T_f78e5_row4_col4\" class=\"data row4 col4\" >0.9286</td>\n",
       "      <td id=\"T_f78e5_row4_col5\" class=\"data row4 col5\" >1.7317</td>\n",
       "    </tr>\n",
       "    <tr>\n",
       "      <th id=\"T_f78e5_level0_row5\" class=\"row_heading level0 row5\" >5</th>\n",
       "      <td id=\"T_f78e5_row5_col0\" class=\"data row5 col0\" >1495.9241</td>\n",
       "      <td id=\"T_f78e5_row5_col1\" class=\"data row5 col1\" >3055230.1784</td>\n",
       "      <td id=\"T_f78e5_row5_col2\" class=\"data row5 col2\" >1747.9217</td>\n",
       "      <td id=\"T_f78e5_row5_col3\" class=\"data row5 col3\" >0.2144</td>\n",
       "      <td id=\"T_f78e5_row5_col4\" class=\"data row5 col4\" >0.9304</td>\n",
       "      <td id=\"T_f78e5_row5_col5\" class=\"data row5 col5\" >2.7295</td>\n",
       "    </tr>\n",
       "    <tr>\n",
       "      <th id=\"T_f78e5_level0_row6\" class=\"row_heading level0 row6\" >6</th>\n",
       "      <td id=\"T_f78e5_row6_col0\" class=\"data row6 col0\" >1458.1523</td>\n",
       "      <td id=\"T_f78e5_row6_col1\" class=\"data row6 col1\" >2942615.7706</td>\n",
       "      <td id=\"T_f78e5_row6_col2\" class=\"data row6 col2\" >1715.4054</td>\n",
       "      <td id=\"T_f78e5_row6_col3\" class=\"data row6 col3\" >0.2433</td>\n",
       "      <td id=\"T_f78e5_row6_col4\" class=\"data row6 col4\" >0.9032</td>\n",
       "      <td id=\"T_f78e5_row6_col5\" class=\"data row6 col5\" >1.5192</td>\n",
       "    </tr>\n",
       "    <tr>\n",
       "      <th id=\"T_f78e5_level0_row7\" class=\"row_heading level0 row7\" >7</th>\n",
       "      <td id=\"T_f78e5_row7_col0\" class=\"data row7 col0\" >1508.3671</td>\n",
       "      <td id=\"T_f78e5_row7_col1\" class=\"data row7 col1\" >3130499.9015</td>\n",
       "      <td id=\"T_f78e5_row7_col2\" class=\"data row7 col2\" >1769.3219</td>\n",
       "      <td id=\"T_f78e5_row7_col3\" class=\"data row7 col3\" >0.1975</td>\n",
       "      <td id=\"T_f78e5_row7_col4\" class=\"data row7 col4\" >0.9388</td>\n",
       "      <td id=\"T_f78e5_row7_col5\" class=\"data row7 col5\" >2.3379</td>\n",
       "    </tr>\n",
       "    <tr>\n",
       "      <th id=\"T_f78e5_level0_row8\" class=\"row_heading level0 row8\" >8</th>\n",
       "      <td id=\"T_f78e5_row8_col0\" class=\"data row8 col0\" >1528.9150</td>\n",
       "      <td id=\"T_f78e5_row8_col1\" class=\"data row8 col1\" >3204669.4930</td>\n",
       "      <td id=\"T_f78e5_row8_col2\" class=\"data row8 col2\" >1790.1591</td>\n",
       "      <td id=\"T_f78e5_row8_col3\" class=\"data row8 col3\" >0.1847</td>\n",
       "      <td id=\"T_f78e5_row8_col4\" class=\"data row8 col4\" >0.9319</td>\n",
       "      <td id=\"T_f78e5_row8_col5\" class=\"data row8 col5\" >1.5767</td>\n",
       "    </tr>\n",
       "    <tr>\n",
       "      <th id=\"T_f78e5_level0_row9\" class=\"row_heading level0 row9\" >9</th>\n",
       "      <td id=\"T_f78e5_row9_col0\" class=\"data row9 col0\" >1531.8013</td>\n",
       "      <td id=\"T_f78e5_row9_col1\" class=\"data row9 col1\" >3182206.2593</td>\n",
       "      <td id=\"T_f78e5_row9_col2\" class=\"data row9 col2\" >1783.8739</td>\n",
       "      <td id=\"T_f78e5_row9_col3\" class=\"data row9 col3\" >0.2078</td>\n",
       "      <td id=\"T_f78e5_row9_col4\" class=\"data row9 col4\" >0.9324</td>\n",
       "      <td id=\"T_f78e5_row9_col5\" class=\"data row9 col5\" >2.1785</td>\n",
       "    </tr>\n",
       "    <tr>\n",
       "      <th id=\"T_f78e5_level0_row10\" class=\"row_heading level0 row10\" >Mean</th>\n",
       "      <td id=\"T_f78e5_row10_col0\" class=\"data row10 col0\" >1502.5684</td>\n",
       "      <td id=\"T_f78e5_row10_col1\" class=\"data row10 col1\" >3096104.1500</td>\n",
       "      <td id=\"T_f78e5_row10_col2\" class=\"data row10 col2\" >1759.4591</td>\n",
       "      <td id=\"T_f78e5_row10_col3\" class=\"data row10 col3\" >0.2140</td>\n",
       "      <td id=\"T_f78e5_row10_col4\" class=\"data row10 col4\" >0.9293</td>\n",
       "      <td id=\"T_f78e5_row10_col5\" class=\"data row10 col5\" >2.5066</td>\n",
       "    </tr>\n",
       "    <tr>\n",
       "      <th id=\"T_f78e5_level0_row11\" class=\"row_heading level0 row11\" >Std</th>\n",
       "      <td id=\"T_f78e5_row11_col0\" class=\"data row11 col0\" >20.4254</td>\n",
       "      <td id=\"T_f78e5_row11_col1\" class=\"data row11 col1\" >70836.2577</td>\n",
       "      <td id=\"T_f78e5_row11_col2\" class=\"data row11 col2\" >20.1931</td>\n",
       "      <td id=\"T_f78e5_row11_col3\" class=\"data row11 col3\" >0.0154</td>\n",
       "      <td id=\"T_f78e5_row11_col4\" class=\"data row11 col4\" >0.0100</td>\n",
       "      <td id=\"T_f78e5_row11_col5\" class=\"data row11 col5\" >0.9759</td>\n",
       "    </tr>\n",
       "  </tbody>\n",
       "</table>\n"
      ],
      "text/plain": [
       "<pandas.io.formats.style.Styler at 0x2547789d750>"
      ]
     },
     "metadata": {},
     "output_type": "display_data"
    },
    {
     "data": {
      "text/html": [],
      "text/plain": [
       "<IPython.core.display.HTML object>"
      ]
     },
     "metadata": {},
     "output_type": "display_data"
    },
    {
     "name": "stdout",
     "output_type": "stream",
     "text": [
      "Fitting 10 folds for each of 10 candidates, totalling 100 fits\n",
      "Original model was better than the tuned model, hence it will be returned. NOTE: The display metrics are for the tuned model (not the original one).\n"
     ]
    }
   ],
   "source": [
    "tuned_best = tune_model(estimator = best)"
   ]
  },
  {
   "cell_type": "code",
   "execution_count": 8,
   "metadata": {},
   "outputs": [
    {
     "data": {
      "text/html": [],
      "text/plain": [
       "<IPython.core.display.HTML object>"
      ]
     },
     "metadata": {},
     "output_type": "display_data"
    },
    {
     "data": {
      "text/html": [
       "<style type=\"text/css\">\n",
       "#T_8fff8_row5_col0, #T_8fff8_row5_col1, #T_8fff8_row5_col2, #T_8fff8_row5_col3, #T_8fff8_row5_col4, #T_8fff8_row5_col5 {\n",
       "  background: yellow;\n",
       "}\n",
       "</style>\n",
       "<table id=\"T_8fff8\">\n",
       "  <thead>\n",
       "    <tr>\n",
       "      <th class=\"blank level0\" >&nbsp;</th>\n",
       "      <th id=\"T_8fff8_level0_col0\" class=\"col_heading level0 col0\" >MAE</th>\n",
       "      <th id=\"T_8fff8_level0_col1\" class=\"col_heading level0 col1\" >MSE</th>\n",
       "      <th id=\"T_8fff8_level0_col2\" class=\"col_heading level0 col2\" >RMSE</th>\n",
       "      <th id=\"T_8fff8_level0_col3\" class=\"col_heading level0 col3\" >R2</th>\n",
       "      <th id=\"T_8fff8_level0_col4\" class=\"col_heading level0 col4\" >RMSLE</th>\n",
       "      <th id=\"T_8fff8_level0_col5\" class=\"col_heading level0 col5\" >MAPE</th>\n",
       "    </tr>\n",
       "    <tr>\n",
       "      <th class=\"index_name level0\" >Fold</th>\n",
       "      <th class=\"blank col0\" >&nbsp;</th>\n",
       "      <th class=\"blank col1\" >&nbsp;</th>\n",
       "      <th class=\"blank col2\" >&nbsp;</th>\n",
       "      <th class=\"blank col3\" >&nbsp;</th>\n",
       "      <th class=\"blank col4\" >&nbsp;</th>\n",
       "      <th class=\"blank col5\" >&nbsp;</th>\n",
       "    </tr>\n",
       "  </thead>\n",
       "  <tbody>\n",
       "    <tr>\n",
       "      <th id=\"T_8fff8_level0_row0\" class=\"row_heading level0 row0\" >0</th>\n",
       "      <td id=\"T_8fff8_row0_col0\" class=\"data row0 col0\" >1500.6461</td>\n",
       "      <td id=\"T_8fff8_row0_col1\" class=\"data row0 col1\" >3096046.8397</td>\n",
       "      <td id=\"T_8fff8_row0_col2\" class=\"data row0 col2\" >1759.5587</td>\n",
       "      <td id=\"T_8fff8_row0_col3\" class=\"data row0 col3\" >0.2099</td>\n",
       "      <td id=\"T_8fff8_row0_col4\" class=\"data row0 col4\" >0.9346</td>\n",
       "      <td id=\"T_8fff8_row0_col5\" class=\"data row0 col5\" >3.8403</td>\n",
       "    </tr>\n",
       "    <tr>\n",
       "      <th id=\"T_8fff8_level0_row1\" class=\"row_heading level0 row1\" >1</th>\n",
       "      <td id=\"T_8fff8_row1_col0\" class=\"data row1 col0\" >1500.1358</td>\n",
       "      <td id=\"T_8fff8_row1_col1\" class=\"data row1 col1\" >3090278.3827</td>\n",
       "      <td id=\"T_8fff8_row1_col2\" class=\"data row1 col2\" >1757.9188</td>\n",
       "      <td id=\"T_8fff8_row1_col3\" class=\"data row1 col3\" >0.2164</td>\n",
       "      <td id=\"T_8fff8_row1_col4\" class=\"data row1 col4\" >0.9301</td>\n",
       "      <td id=\"T_8fff8_row1_col5\" class=\"data row1 col5\" >2.6539</td>\n",
       "    </tr>\n",
       "    <tr>\n",
       "      <th id=\"T_8fff8_level0_row2\" class=\"row_heading level0 row2\" >2</th>\n",
       "      <td id=\"T_8fff8_row2_col0\" class=\"data row2 col0\" >1505.6980</td>\n",
       "      <td id=\"T_8fff8_row2_col1\" class=\"data row2 col1\" >3086485.7795</td>\n",
       "      <td id=\"T_8fff8_row2_col2\" class=\"data row2 col2\" >1756.8397</td>\n",
       "      <td id=\"T_8fff8_row2_col3\" class=\"data row2 col3\" >0.2219</td>\n",
       "      <td id=\"T_8fff8_row2_col4\" class=\"data row2 col4\" >0.9290</td>\n",
       "      <td id=\"T_8fff8_row2_col5\" class=\"data row2 col5\" >2.2074</td>\n",
       "    </tr>\n",
       "    <tr>\n",
       "      <th id=\"T_8fff8_level0_row3\" class=\"row_heading level0 row3\" >3</th>\n",
       "      <td id=\"T_8fff8_row3_col0\" class=\"data row3 col0\" >1485.1463</td>\n",
       "      <td id=\"T_8fff8_row3_col1\" class=\"data row3 col1\" >3041877.7735</td>\n",
       "      <td id=\"T_8fff8_row3_col2\" class=\"data row3 col2\" >1744.0980</td>\n",
       "      <td id=\"T_8fff8_row3_col3\" class=\"data row3 col3\" >0.2190</td>\n",
       "      <td id=\"T_8fff8_row3_col4\" class=\"data row3 col4\" >0.9211</td>\n",
       "      <td id=\"T_8fff8_row3_col5\" class=\"data row3 col5\" >1.9294</td>\n",
       "    </tr>\n",
       "    <tr>\n",
       "      <th id=\"T_8fff8_level0_row4\" class=\"row_heading level0 row4\" >4</th>\n",
       "      <td id=\"T_8fff8_row4_col0\" class=\"data row4 col0\" >1533.7358</td>\n",
       "      <td id=\"T_8fff8_row4_col1\" class=\"data row4 col1\" >3212596.4749</td>\n",
       "      <td id=\"T_8fff8_row4_col2\" class=\"data row4 col2\" >1792.3717</td>\n",
       "      <td id=\"T_8fff8_row4_col3\" class=\"data row4 col3\" >0.1915</td>\n",
       "      <td id=\"T_8fff8_row4_col4\" class=\"data row4 col4\" >0.9334</td>\n",
       "      <td id=\"T_8fff8_row4_col5\" class=\"data row4 col5\" >1.8772</td>\n",
       "    </tr>\n",
       "    <tr>\n",
       "      <th id=\"T_8fff8_level0_row5\" class=\"row_heading level0 row5\" >Mean</th>\n",
       "      <td id=\"T_8fff8_row5_col0\" class=\"data row5 col0\" >1505.0724</td>\n",
       "      <td id=\"T_8fff8_row5_col1\" class=\"data row5 col1\" >3105457.0501</td>\n",
       "      <td id=\"T_8fff8_row5_col2\" class=\"data row5 col2\" >1762.1574</td>\n",
       "      <td id=\"T_8fff8_row5_col3\" class=\"data row5 col3\" >0.2118</td>\n",
       "      <td id=\"T_8fff8_row5_col4\" class=\"data row5 col4\" >0.9297</td>\n",
       "      <td id=\"T_8fff8_row5_col5\" class=\"data row5 col5\" >2.5016</td>\n",
       "    </tr>\n",
       "    <tr>\n",
       "      <th id=\"T_8fff8_level0_row6\" class=\"row_heading level0 row6\" >Std</th>\n",
       "      <td id=\"T_8fff8_row6_col0\" class=\"data row6 col0\" >15.8934</td>\n",
       "      <td id=\"T_8fff8_row6_col1\" class=\"data row6 col1\" >56921.0574</td>\n",
       "      <td id=\"T_8fff8_row6_col2\" class=\"data row6 col2\" >16.0751</td>\n",
       "      <td id=\"T_8fff8_row6_col3\" class=\"data row6 col3\" >0.0109</td>\n",
       "      <td id=\"T_8fff8_row6_col4\" class=\"data row6 col4\" >0.0048</td>\n",
       "      <td id=\"T_8fff8_row6_col5\" class=\"data row6 col5\" >0.7238</td>\n",
       "    </tr>\n",
       "  </tbody>\n",
       "</table>\n"
      ],
      "text/plain": [
       "<pandas.io.formats.style.Styler at 0x2547d4fcfd0>"
      ]
     },
     "metadata": {},
     "output_type": "display_data"
    },
    {
     "data": {
      "text/html": [],
      "text/plain": [
       "<IPython.core.display.HTML object>"
      ]
     },
     "metadata": {},
     "output_type": "display_data"
    },
    {
     "name": "stdout",
     "output_type": "stream",
     "text": [
      "Fitting 5 folds for each of 10 candidates, totalling 50 fits\n",
      "Original model was better than the tuned model, hence it will be returned. NOTE: The display metrics are for the tuned model (not the original one).\n"
     ]
    }
   ],
   "source": [
    "tuned_best = tune_model(estimator = best, fold = 5)"
   ]
  },
  {
   "cell_type": "code",
   "execution_count": 9,
   "metadata": {},
   "outputs": [],
   "source": [
    "final_model = finalize_model(estimator = tuned_best) "
   ]
  },
  {
   "cell_type": "code",
   "execution_count": 14,
   "metadata": {},
   "outputs": [
    {
     "name": "stdout",
     "output_type": "stream",
     "text": [
      "Transformation Pipeline and Model Successfully Saved\n"
     ]
    },
    {
     "data": {
      "text/plain": [
       "(Pipeline(memory=Memory(location=None),\n",
       "          steps=[('numerical_imputer',\n",
       "                  TransformerWrapper(include=['temp', 'rain_1h', 'snow_1h',\n",
       "                                              'clouds_all', 'Rush Hour'],\n",
       "                                     transformer=SimpleImputer())),\n",
       "                 ('categorical_imputer',\n",
       "                  TransformerWrapper(include=['holiday', 'weather_main'],\n",
       "                                     transformer=SimpleImputer(strategy='most_frequent'))),\n",
       "                 ('onehot_encoding',\n",
       "                  TransformerWrapper(include=['holiday', 'weather_main'],\n",
       "                                     transformer=OneHotEncoder(cols=['holiday',\n",
       "                                                                     'weather_main'],\n",
       "                                                               handle_missing='return_nan',\n",
       "                                                               use_cat_names=True))),\n",
       "                 ('clean_column_names',\n",
       "                  TransformerWrapper(transformer=CleanColumnNames())),\n",
       "                 ('actual_estimator',\n",
       "                  LGBMRegressor(n_jobs=-1, random_state=438))]),\n",
       " 'C:/Users/jalal/OneDrive/Desktop/jjj/2_Automating the ML Model Cycle/save_model/rf_base_traffic.pkl')"
      ]
     },
     "execution_count": 14,
     "metadata": {},
     "output_type": "execute_result"
    }
   ],
   "source": [
    "save_model(final_model, '/2_Automating the ML Model Cycle/save_model/rf_base_traffic')"
   ]
  },
  {
   "cell_type": "markdown",
   "metadata": {},
   "source": [
    "#### Predictions"
   ]
  },
  {
   "cell_type": "code",
   "execution_count": 15,
   "metadata": {},
   "outputs": [
    {
     "name": "stdout",
     "output_type": "stream",
     "text": [
      "Transformation Pipeline and Model Successfully Loaded\n"
     ]
    }
   ],
   "source": [
    "saved_model = load_model('/2_Automating the ML Model Cycle/save_model/rf_base_traffic')"
   ]
  },
  {
   "cell_type": "code",
   "execution_count": 17,
   "metadata": {},
   "outputs": [],
   "source": [
    "import pandas as pd\n",
    "\n",
    "# Example new data\n",
    "new_data = pd.DataFrame({\n",
    "    'holiday': ['None', 'None'],\n",
    "    'temp': [292.15, 293.10],  # example temperatures\n",
    "    'rain_1h': [0.0, 0.25],  # example rain values\n",
    "    'snow_1h': [0.0, 0.0],  # example snow values\n",
    "    'clouds_all': [40, 50],  # example cloud coverage percentages\n",
    "    'weather_main': ['Clear', 'Rain'],  # example weather conditions\n",
    "    'Rush Hour': [1, 0]  # example rush hour flags\n",
    "})\n"
   ]
  },
  {
   "cell_type": "code",
   "execution_count": 18,
   "metadata": {},
   "outputs": [
    {
     "data": {
      "text/html": [],
      "text/plain": [
       "<IPython.core.display.HTML object>"
      ]
     },
     "metadata": {},
     "output_type": "display_data"
    },
    {
     "data": {
      "text/html": [
       "<div>\n",
       "<style scoped>\n",
       "    .dataframe tbody tr th:only-of-type {\n",
       "        vertical-align: middle;\n",
       "    }\n",
       "\n",
       "    .dataframe tbody tr th {\n",
       "        vertical-align: top;\n",
       "    }\n",
       "\n",
       "    .dataframe thead th {\n",
       "        text-align: right;\n",
       "    }\n",
       "</style>\n",
       "<table border=\"1\" class=\"dataframe\">\n",
       "  <thead>\n",
       "    <tr style=\"text-align: right;\">\n",
       "      <th></th>\n",
       "      <th>holiday</th>\n",
       "      <th>temp</th>\n",
       "      <th>rain_1h</th>\n",
       "      <th>snow_1h</th>\n",
       "      <th>clouds_all</th>\n",
       "      <th>weather_main</th>\n",
       "      <th>Rush Hour</th>\n",
       "      <th>prediction_label</th>\n",
       "    </tr>\n",
       "  </thead>\n",
       "  <tbody>\n",
       "    <tr>\n",
       "      <th>0</th>\n",
       "      <td>None</td>\n",
       "      <td>292.149994</td>\n",
       "      <td>0.00</td>\n",
       "      <td>0.0</td>\n",
       "      <td>40</td>\n",
       "      <td>Clear</td>\n",
       "      <td>1</td>\n",
       "      <td>4571.114853</td>\n",
       "    </tr>\n",
       "    <tr>\n",
       "      <th>1</th>\n",
       "      <td>None</td>\n",
       "      <td>293.100006</td>\n",
       "      <td>0.25</td>\n",
       "      <td>0.0</td>\n",
       "      <td>50</td>\n",
       "      <td>Rain</td>\n",
       "      <td>0</td>\n",
       "      <td>2592.517413</td>\n",
       "    </tr>\n",
       "  </tbody>\n",
       "</table>\n",
       "</div>"
      ],
      "text/plain": [
       "  holiday        temp  rain_1h  snow_1h  clouds_all weather_main  Rush Hour  \\\n",
       "0    None  292.149994     0.00      0.0          40        Clear          1   \n",
       "1    None  293.100006     0.25      0.0          50         Rain          0   \n",
       "\n",
       "   prediction_label  \n",
       "0       4571.114853  \n",
       "1       2592.517413  "
      ]
     },
     "execution_count": 18,
     "metadata": {},
     "output_type": "execute_result"
    }
   ],
   "source": [
    "predictions = predict_model(saved_model, data=new_data)\n",
    "predictions.head()"
   ]
  },
  {
   "cell_type": "markdown",
   "metadata": {},
   "source": [
    "#### Comparision between Actual Label and Predicted Label (inlcuding dataset with Actual label)"
   ]
  },
  {
   "cell_type": "code",
   "execution_count": 19,
   "metadata": {},
   "outputs": [],
   "source": [
    "import pandas as pd\n",
    "\n",
    "# Example new data with actual labels\n",
    "new_data_with_actual = pd.DataFrame({\n",
    "    'holiday': ['None', 'None'],\n",
    "    'temp': [292.15, 293.10],  # example temperatures\n",
    "    'rain_1h': [0.0, 0.25],  # example rain values\n",
    "    'snow_1h': [0.0, 0.0],  # example snow values\n",
    "    'clouds_all': [40, 50],  # example cloud coverage percentages\n",
    "    'weather_main': ['Clear', 'Rain'],  # example weather conditions\n",
    "    'Rush Hour': [1, 0],  # example rush hour flags\n",
    "    'traffic_volume': [5500, 4600]  # actual traffic volume\n",
    "})\n"
   ]
  },
  {
   "cell_type": "code",
   "execution_count": 20,
   "metadata": {},
   "outputs": [
    {
     "name": "stdout",
     "output_type": "stream",
     "text": [
      "Transformation Pipeline and Model Successfully Loaded\n"
     ]
    }
   ],
   "source": [
    "from pycaret.regression import load_model\n",
    "\n",
    "saved_model = load_model('/2_Automating the ML Model Cycle/save_model/rf_base_traffic')"
   ]
  },
  {
   "cell_type": "code",
   "execution_count": 26,
   "metadata": {},
   "outputs": [
    {
     "data": {
      "text/html": [],
      "text/plain": [
       "<IPython.core.display.HTML object>"
      ]
     },
     "metadata": {},
     "output_type": "display_data"
    }
   ],
   "source": [
    "new_data_for_prediction = new_data_with_actual.drop(columns=['traffic_volume'])\n",
    "predictions = predict_model(saved_model, data=new_data_for_prediction)"
   ]
  },
  {
   "cell_type": "code",
   "execution_count": 28,
   "metadata": {},
   "outputs": [
    {
     "name": "stdout",
     "output_type": "stream",
     "text": [
      "Index(['holiday', 'temp', 'rain_1h', 'snow_1h', 'clouds_all', 'weather_main',\n",
      "       'Rush Hour', 'prediction_label'],\n",
      "      dtype='object')\n"
     ]
    }
   ],
   "source": [
    "print(predictions.columns)"
   ]
  },
  {
   "cell_type": "code",
   "execution_count": 29,
   "metadata": {
    "scrolled": false
   },
   "outputs": [
    {
     "name": "stdout",
     "output_type": "stream",
     "text": [
      "   traffic_volume  predicted_traffic_volume\n",
      "0            5500               4571.114853\n",
      "1            4600               2592.517413\n"
     ]
    }
   ],
   "source": [
    "# Add the predictions to the original DataFrame with actual labels\n",
    "new_data_with_actual['predicted_traffic_volume'] = predictions['prediction_label']\n",
    "\n",
    "# Now you can compare\n",
    "print(new_data_with_actual[['traffic_volume', 'predicted_traffic_volume']])\n"
   ]
  },
  {
   "cell_type": "code",
   "execution_count": 30,
   "metadata": {},
   "outputs": [
    {
     "name": "stdout",
     "output_type": "stream",
     "text": [
      "Mean Absolute Error (MAE): 1468.183867272633\n",
      "Mean Squared Error (MSE): 2446406.977294451\n",
      "Root Mean Squared Error (RMSE): 1564.0994141340414\n",
      "R-squared (R²): -11.081022110096054\n"
     ]
    }
   ],
   "source": [
    "from sklearn.metrics import mean_absolute_error, mean_squared_error, r2_score\n",
    "import numpy as np\n",
    "\n",
    "# Actual and predicted values\n",
    "actual_values = new_data_with_actual['traffic_volume']\n",
    "predicted_values = new_data_with_actual['predicted_traffic_volume']\n",
    "\n",
    "# Calculate MAE, MSE, RMSE, and R-squared\n",
    "mae = mean_absolute_error(actual_values, predicted_values)\n",
    "mse = mean_squared_error(actual_values, predicted_values)\n",
    "rmse = np.sqrt(mse)\n",
    "r2 = r2_score(actual_values, predicted_values)\n",
    "\n",
    "# Print the performance metrics\n",
    "print(f\"Mean Absolute Error (MAE): {mae}\")\n",
    "print(f\"Mean Squared Error (MSE): {mse}\")\n",
    "print(f\"Root Mean Squared Error (RMSE): {rmse}\")\n",
    "print(f\"R-squared (R²): {r2}\")\n"
   ]
  },
  {
   "cell_type": "code",
   "execution_count": null,
   "metadata": {},
   "outputs": [],
   "source": []
  }
 ],
 "metadata": {
  "kernelspec": {
   "display_name": "Python 3 (ipykernel)",
   "language": "python",
   "name": "python3"
  },
  "language_info": {
   "codemirror_mode": {
    "name": "ipython",
    "version": 3
   },
   "file_extension": ".py",
   "mimetype": "text/x-python",
   "name": "python",
   "nbconvert_exporter": "python",
   "pygments_lexer": "ipython3",
   "version": "3.11.0"
  }
 },
 "nbformat": 4,
 "nbformat_minor": 4
}
